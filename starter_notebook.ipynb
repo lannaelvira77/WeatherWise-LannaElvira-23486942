{
  "cells": [
    {
      "cell_type": "markdown",
      "metadata": {
        "id": "view-in-github",
        "colab_type": "text"
      },
      "source": [
        "<a href=\"https://colab.research.google.com/github/lannaelvira77/WeatherWise-LannaElvira-23486942/blob/main/starter_notebook.ipynb\" target=\"_parent\"><img src=\"https://colab.research.google.com/assets/colab-badge.svg\" alt=\"Open In Colab\"/></a>"
      ]
    },
    {
      "cell_type": "markdown",
      "id": "72e78a05",
      "metadata": {
        "id": "72e78a05"
      },
      "source": [
        "# 🌦️ WeatherWise: Intelligent Weather Analysis & Advisory System\n",
        "\n",
        "***WeatherWise*** is an interactive Python application that provides real-time weather insights and intelligent activity recommendations using the OpenWeatherMap API.\n",
        "<BR> The system integrates natural language processing (NLP) and visual analytics to let users ask weather-related questions conversationally (e.g., “*Will it rain tomorrow in Perth?*”) and receive both textual and graphical responses.\n",
        "\n",
        "**Key features** include:\n",
        "- 🌤 Live Weather Dashboard – view current and multi-day forecasts.\n",
        "- 💬 Chatbot Mode – ask natural questions; receive smart, context-aware answers.\n",
        "- 📊 Visual Analytics – temperature, rainfall, and humidity charts via Matplotlib.\n",
        "- 🥾 Activity Advisor – simple AI heuristic to rate outdoor suitability (e.g., hiking).\n",
        "- ⚙️ Robust API Handling – gracefully manages network errors, timeouts, and incomplete data.\n",
        "\n",
        "🧭 Instructions for Running:\n",
        "1. Click Runtime ▸ Run All (or press Ctrl+F9) to execute all cells.\n",
        "2. Once all sections are loaded, scroll to Section 8 – Main Application Logic > Launch.\n",
        "3. Run the final cell to start the interactive menu.\n",
        "4. Choose between Dashboard or Chat to explore the system.\n"
      ]
    },
    {
      "cell_type": "markdown",
      "id": "fa8c7f6c",
      "metadata": {
        "id": "fa8c7f6c"
      },
      "source": [
        "## 🧰 Setup and Imports\n",
        "\n",
        "This section installs and imports the essential libraries used throughout the *Weather Advisor* project.\n",
        "- matplotlib → for creating temperature, precipitation visualisations, etc\n",
        "- pyinputplus → for building a console-style user interface with validated menu inputs.\n"
      ]
    },
    {
      "cell_type": "code",
      "execution_count": 55,
      "id": "70c3f3f1",
      "metadata": {
        "id": "70c3f3f1",
        "colab": {
          "base_uri": "https://localhost:8080/"
        },
        "outputId": "26d3bfe6-d4d2-49b3-9773-09192f150f92"
      },
      "outputs": [
        {
          "output_type": "stream",
          "name": "stdout",
          "text": [
            "Requirement already satisfied: matplotlib in /usr/local/lib/python3.12/dist-packages (3.10.0)\n",
            "Requirement already satisfied: pyinputplus in /usr/local/lib/python3.12/dist-packages (0.2.12)\n",
            "Requirement already satisfied: contourpy>=1.0.1 in /usr/local/lib/python3.12/dist-packages (from matplotlib) (1.3.3)\n",
            "Requirement already satisfied: cycler>=0.10 in /usr/local/lib/python3.12/dist-packages (from matplotlib) (0.12.1)\n",
            "Requirement already satisfied: fonttools>=4.22.0 in /usr/local/lib/python3.12/dist-packages (from matplotlib) (4.60.1)\n",
            "Requirement already satisfied: kiwisolver>=1.3.1 in /usr/local/lib/python3.12/dist-packages (from matplotlib) (1.4.9)\n",
            "Requirement already satisfied: numpy>=1.23 in /usr/local/lib/python3.12/dist-packages (from matplotlib) (2.0.2)\n",
            "Requirement already satisfied: packaging>=20.0 in /usr/local/lib/python3.12/dist-packages (from matplotlib) (25.0)\n",
            "Requirement already satisfied: pillow>=8 in /usr/local/lib/python3.12/dist-packages (from matplotlib) (11.3.0)\n",
            "Requirement already satisfied: pyparsing>=2.3.1 in /usr/local/lib/python3.12/dist-packages (from matplotlib) (3.2.5)\n",
            "Requirement already satisfied: python-dateutil>=2.7 in /usr/local/lib/python3.12/dist-packages (from matplotlib) (2.9.0.post0)\n",
            "Requirement already satisfied: pysimplevalidate>=0.2.7 in /usr/local/lib/python3.12/dist-packages (from pyinputplus) (0.2.12)\n",
            "Requirement already satisfied: stdiomask>=0.0.3 in /usr/local/lib/python3.12/dist-packages (from pyinputplus) (0.0.6)\n",
            "Requirement already satisfied: six>=1.5 in /usr/local/lib/python3.12/dist-packages (from python-dateutil>=2.7->matplotlib) (1.17.0)\n"
          ]
        }
      ],
      "source": [
        "!pip install matplotlib pyinputplus\n"
      ]
    },
    {
      "cell_type": "code",
      "source": [
        "# The plt.ion() command makes Matplotlib operate in interactive (non-blocking) mode so charts display immediately without freezing program execution.\n",
        "import matplotlib.pyplot as plt\n",
        "plt.ion()"
      ],
      "metadata": {
        "colab": {
          "base_uri": "https://localhost:8080/"
        },
        "id": "nBjL9FAIv-_C",
        "outputId": "c0e47fc8-6661-449c-cfc3-cf637cc20e9c"
      },
      "id": "nBjL9FAIv-_C",
      "execution_count": 56,
      "outputs": [
        {
          "output_type": "execute_result",
          "data": {
            "text/plain": [
              "<contextlib.ExitStack at 0x796035208650>"
            ]
          },
          "metadata": {},
          "execution_count": 56
        }
      ]
    },
    {
      "cell_type": "markdown",
      "id": "59ae7543",
      "metadata": {
        "id": "59ae7543"
      },
      "source": [
        "## 📦 Setup and Configuration\n",
        "\n",
        "This section configures environment variables and verifies the connection to the **OpenWeatherMap (OWM)** API.\n",
        "<br> The API key is stored as an environment variable for secure access and reusability across modules.\n",
        "A preliminary test request is performed to verify that the connection and credentials function correctly before further development."
      ]
    },
    {
      "cell_type": "markdown",
      "source": [
        "### Store and Retrieve API Key"
      ],
      "metadata": {
        "id": "iacn51BgxD0n"
      },
      "id": "iacn51BgxD0n"
    },
    {
      "cell_type": "code",
      "source": [
        "import os\n",
        "# Set the API key as an environment variable\n",
        "os.environ['OWM_API_KEY'] = \"3940901d1d76b912b0cd840fd2b06ff7\"\n",
        "\n",
        "# Retrieve and store the key for later use\n",
        "api_key = os.environ['OWM_API_KEY']"
      ],
      "metadata": {
        "id": "mQopnMx1r7pr"
      },
      "id": "mQopnMx1r7pr",
      "execution_count": 57,
      "outputs": []
    },
    {
      "cell_type": "markdown",
      "source": [
        "### Test API Connection"
      ],
      "metadata": {
        "id": "28uLlhrAxM6k"
      },
      "id": "28uLlhrAxM6k"
    },
    {
      "cell_type": "code",
      "source": [
        "import requests\n",
        "\n",
        "# Define test location\n",
        "location = \"Perth,AU\"\n",
        "\n",
        "# Build the API request URL (metric units for temperature in °C)\n",
        "url = f\"http://api.openweathermap.org/data/2.5/weather?q={location}&appid={api_key}&units=metric\"\n",
        "\n",
        "# Send the GET request to the API endpoint\n",
        "response = requests.get(url)\n",
        "\n",
        "# Convert the API response to JSON format\n",
        "data = response.json()\n",
        "\n",
        "# Display the returned JSON data to confirm successful retrieval\n",
        "print(\"✅ API connection test completed. Response preview:\")\n",
        "print(data)"
      ],
      "metadata": {
        "colab": {
          "base_uri": "https://localhost:8080/"
        },
        "id": "3cvY1PW8GsA2",
        "outputId": "2dd5c47b-f9f4-47c6-cd68-ebd966bbf705"
      },
      "id": "3cvY1PW8GsA2",
      "execution_count": 58,
      "outputs": [
        {
          "output_type": "stream",
          "name": "stdout",
          "text": [
            "✅ API connection test completed. Response preview:\n",
            "{'coord': {'lon': 115.8333, 'lat': -31.9333}, 'weather': [{'id': 804, 'main': 'Clouds', 'description': 'overcast clouds', 'icon': '04d'}], 'base': 'stations', 'main': {'temp': 16.43, 'feels_like': 15.72, 'temp_min': 16.13, 'temp_max': 17.07, 'pressure': 1021, 'humidity': 61, 'sea_level': 1021, 'grnd_level': 1018}, 'visibility': 10000, 'wind': {'speed': 6.69, 'deg': 180}, 'clouds': {'all': 100}, 'dt': 1759647930, 'sys': {'type': 2, 'id': 2089443, 'country': 'AU', 'sunrise': 1759614565, 'sunset': 1759659640}, 'timezone': 28800, 'id': 2063523, 'name': 'Perth', 'cod': 200}\n"
          ]
        }
      ]
    },
    {
      "cell_type": "markdown",
      "id": "f736ade3",
      "metadata": {
        "id": "f736ade3"
      },
      "source": [
        "## 🌤️ Weather Data Functions\n",
        "\n",
        "This section defines all functions responsible for retrieving, processing, and preparing weather data from the **OpenWeatherMap (OWM)** API.\n",
        "<BR> It includes network request handling, caching, data aggregation, and error management to ensure consistent and efficient access to current and forecast information. The resulting data structures are used by the user interface, natural-language module, and visualisation components of the application.\n",
        "\n",
        "Core tasks performed in this section:\n",
        "- Establish API requests for current and 5-day forecasts.\n",
        "- Implement lightweight caching to reduce repeated calls.\n",
        "- Handle API errors and invalid inputs gracefully.\n",
        "- Aggregate 3-hour forecast data into daily summaries.\n",
        "- Provide helper functions (_safe_get, _make_error, etc.) for cleaner and safer data access."
      ]
    },
    {
      "cell_type": "markdown",
      "source": [
        "### Imports, constants, and small utility functions"
      ],
      "metadata": {
        "id": "h_iP9rDyyRpd"
      },
      "id": "h_iP9rDyyRpd"
    },
    {
      "cell_type": "code",
      "source": [
        "# This cell imports required modules and defines constants,\n",
        "# helper functions, and basic error-handling utilities.\n",
        "\n",
        "import os, requests, time, json\n",
        "from datetime import datetime, timezone, timedelta\n",
        "from collections import defaultdict\n",
        "\n",
        "# Global cache and configuration\n",
        "_WEATHER_CACHE = {}\n",
        "_CACHE_TTL_SECONDS = 600        # Cache lifetime (10 minutes)\n",
        "_RETRY_STATUS = {502, 503, 504} # Retry on transient server errors\n",
        "_DEFAULT_TIMEOUT = 20           # Default HTTP timeout (seconds)\n",
        "\n",
        "# Helper functions\n",
        "def _now_utc():\n",
        "    \"\"\"Return the current UTC datetime.\"\"\"\n",
        "    return datetime.now(timezone.utc)\n",
        "\n",
        "def _make_error(message, code=None, hint=None):\n",
        "    \"\"\"Standardized error format for consistent UI messages.\"\"\"\n",
        "    return {\"error\": {\"message\": message, \"code\": code, \"hint\": hint}}\n",
        "\n",
        "def _safe_get(d, path, default=None):\n",
        "    \"\"\"Safely navigate nested dicts (avoids KeyErrors).\"\"\"\n",
        "    cur = d\n",
        "    for p in path:\n",
        "        if not isinstance(cur, dict) or p not in cur:\n",
        "            return default\n",
        "        cur = cur[p]\n",
        "    return cur"
      ],
      "metadata": {
        "id": "tQMDec7uzMXr"
      },
      "id": "tQMDec7uzMXr",
      "execution_count": 59,
      "outputs": []
    },
    {
      "cell_type": "markdown",
      "source": [
        "### Forecast aggregation helper"
      ],
      "metadata": {
        "id": "QYLa-xcpzVK7"
      },
      "id": "QYLa-xcpzVK7"
    },
    {
      "cell_type": "code",
      "source": [
        "# This helper processes raw OWM 3-hourly forecast entries\n",
        "# and computes average/min/max temperature and rainfall probability.\n",
        "\n",
        "def _aggregate_daily_from_3h(forecast_json, forecast_days, tz_offset=0):\n",
        "    three_hour_list = forecast_json.get(\"list\", [])\n",
        "    buckets = defaultdict(list)\n",
        "\n",
        "    # Group entries by local date\n",
        "    for item in three_hour_list:\n",
        "        dt_txt = item.get(\"dt_txt\")\n",
        "        if not dt_txt:\n",
        "            continue\n",
        "        try:\n",
        "            dt_obj = datetime.strptime(dt_txt, \"%Y-%m-%d %H:%M:%S\")\n",
        "            local_dt = dt_obj + timedelta(seconds=tz_offset)\n",
        "            day = local_dt.strftime(\"%Y-%m-%d\")\n",
        "        except Exception:\n",
        "            day = dt_txt.split(\" \")[0]\n",
        "        buckets[day].append(item)\n",
        "\n",
        "    daily_rows = []\n",
        "    for day in sorted(buckets.keys()):\n",
        "        rows = buckets[day]\n",
        "        temps = [_safe_get(x, [\"main\",\"temp\"]) for x in rows if _safe_get(x, [\"main\",\"temp\"]) is not None]\n",
        "        pops  = [x.get(\"pop\") for x in rows if isinstance(x.get(\"pop\"), (int, float))]\n",
        "        descs = [_safe_get(x, [\"weather\"], [{}])[0].get(\"description\") for x in rows]\n",
        "        icons = [_safe_get(x, [\"weather\"], [{}])[0].get(\"icon\") for x in rows]\n",
        "\n",
        "        if not temps:\n",
        "            continue\n",
        "\n",
        "        temp_min, temp_max = min(temps), max(temps)\n",
        "        temp_avg = sum(temps) / len(temps)\n",
        "        pop_avg = (sum(pops) / len(pops) * 100.0) if pops else 0.0\n",
        "\n",
        "        # Helper to find most common value in a list\n",
        "        def _most_common(lst):\n",
        "            if not lst: return None\n",
        "            counts = {}\n",
        "            for v in lst: counts[v] = counts.get(v, 0) + 1\n",
        "            return max(counts, key=counts.get)\n",
        "\n",
        "        description = (_most_common([d for d in descs if d]) or \"\").capitalize()\n",
        "        icon = _most_common([i for i in icons if i]) or \"\"\n",
        "\n",
        "        daily_rows.append({\n",
        "            \"date\": day,\n",
        "            \"temp_min\": round(temp_min, 2),\n",
        "            \"temp_max\": round(temp_max, 2),\n",
        "            \"temp_avg\": round(temp_avg, 2),\n",
        "            \"pop\": round(pop_avg, 1),\n",
        "            \"description\": description,\n",
        "            \"icon\": icon\n",
        "        })\n",
        "    return daily_rows[:max(1, min(int(forecast_days), 5))]"
      ],
      "metadata": {
        "id": "pF50cwckzYVs"
      },
      "id": "pF50cwckzYVs",
      "execution_count": 60,
      "outputs": []
    },
    {
      "cell_type": "markdown",
      "source": [
        "### HTTP request with retry"
      ],
      "metadata": {
        "id": "qOhn9Lo4zgBL"
      },
      "id": "qOhn9Lo4zgBL"
    },
    {
      "cell_type": "code",
      "source": [
        "# HTTP request helper with small retry mechanism\n",
        "# Handles temporary network or provider errors gracefully.\n",
        "\n",
        "def _http_get_with_retry(url, params, timeout=_DEFAULT_TIMEOUT, retries=1):\n",
        "    for attempt in range(retries + 1):\n",
        "        try:\n",
        "            return requests.get(url, params=params, timeout=timeout)\n",
        "        except requests.exceptions.RequestException:\n",
        "            if attempt >= retries:\n",
        "                raise\n",
        "            time.sleep(0.8)  # short delay before retry\n"
      ],
      "metadata": {
        "id": "F3yaDrgfzi_u"
      },
      "id": "F3yaDrgfzi_u",
      "execution_count": 61,
      "outputs": []
    },
    {
      "cell_type": "markdown",
      "source": [
        "### Main weather data function"
      ],
      "metadata": {
        "id": "JPtu33cqzps6"
      },
      "id": "JPtu33cqzps6"
    },
    {
      "cell_type": "code",
      "source": [
        "# Main function: get_weather_data()\n",
        "# Retrieves current and forecast weather data from OWM API.\n",
        "# Performs validation, caching, error handling, and formatting.\n",
        "\n",
        "def get_weather_data(location, forecast_days=5, include_hourly_24h=True, use_cache=True):\n",
        "    # Validate input\n",
        "    if not isinstance(location, str) or not location.strip():\n",
        "        return _make_error(\"Please provide a city name (e.g., 'Perth,AU').\", code=\"bad_input\")\n",
        "    location = location.strip()\n",
        "    try:\n",
        "        forecast_days = int(forecast_days)\n",
        "    except Exception:\n",
        "        return _make_error(\"forecast_days must be an integer between 1 and 5.\", code=\"bad_input\")\n",
        "    if not (1 <= forecast_days <= 5):\n",
        "        return _make_error(\"forecast_days must be between 1 and 5.\", code=\"bad_input\")\n",
        "\n",
        "    api_key = os.environ.get(\"OWM_API_KEY\")\n",
        "    if not api_key:\n",
        "        return _make_error(\"Missing API key. Set OWM_API_KEY.\", code=\"missing_api_key\")\n",
        "\n",
        "    # Cache check\n",
        "    cache_key = (location.lower(), forecast_days)\n",
        "    if use_cache and cache_key in _WEATHER_CACHE:\n",
        "        cached = _WEATHER_CACHE[cache_key]\n",
        "        if (_now_utc() - cached[\"fetched_at\"]).total_seconds() < _CACHE_TTL_SECONDS:\n",
        "            return cached[\"data\"]\n",
        "\n",
        "    # API request setup\n",
        "    base_url_current = \"https://api.openweathermap.org/data/2.5/weather\"\n",
        "    base_url_forecast = \"https://api.openweathermap.org/data/2.5/forecast\"\n",
        "    params = {\"q\": location, \"appid\": api_key, \"units\": \"metric\"}\n",
        "\n",
        "    try:\n",
        "        # Current weather\n",
        "        cur_res = _http_get_with_retry(base_url_current, params)\n",
        "        if cur_res.status_code == 404:\n",
        "            return _make_error(f\"City not found: '{location}'.\", code=404)\n",
        "        cur_res.raise_for_status()\n",
        "\n",
        "        # Forecast\n",
        "        fct_res = _http_get_with_retry(base_url_forecast, params)\n",
        "        fct_res.raise_for_status()\n",
        "    except requests.exceptions.Timeout:\n",
        "        return _make_error(\"The weather service timed out.\", code=\"timeout\")\n",
        "    except requests.exceptions.RequestException as e:\n",
        "        return _make_error(f\"Network error: {e}\", code=\"network\")\n",
        "\n",
        "    # Parse JSON\n",
        "    cur_json = cur_res.json()\n",
        "    fct_json = fct_res.json()\n",
        "    if str(cur_json.get(\"cod\")) != \"200\":\n",
        "        return _make_error(cur_json.get(\"message\", \"Unknown provider error.\"), code=cur_json.get(\"cod\"))\n",
        "\n",
        "    # Extract and organize data\n",
        "    fetched_at = _now_utc().isoformat()\n",
        "    tz_seconds = _safe_get(cur_json, [\"timezone\"], 0)\n",
        "    weather0 = _safe_get(cur_json, [\"weather\"], [{}])[0] or {}\n",
        "\n",
        "    current = {\n",
        "        \"temp\": round(_safe_get(cur_json, [\"main\",\"temp\"], 0.0), 2),\n",
        "        \"description\": weather0.get(\"description\", \"\").capitalize(),\n",
        "        \"humidity\": _safe_get(cur_json, [\"main\",\"humidity\"], 0),\n",
        "        \"wind_speed\": _safe_get(cur_json, [\"wind\",\"speed\"], 0.0),\n",
        "        \"icon\": weather0.get(\"icon\", \"\"),\n",
        "    }\n",
        "    current[\"summary\"] = f\"{current['temp']}°C, {current['description']} (Humidity {current['humidity']}%, Wind {current['wind_speed']} m/s)\"\n",
        "\n",
        "    daily = _aggregate_daily_from_3h(fct_json, forecast_days, tz_offset=tz_seconds)\n",
        "\n",
        "    # Optional 24-hour hourly data\n",
        "    hourly_24h = None\n",
        "    if include_hourly_24h:\n",
        "        slots = (fct_json.get(\"list\") or [])[:8]  # next 24h (3h intervals)\n",
        "        hourly_24h = []\n",
        "        for it in slots:\n",
        "            w0 = _safe_get(it, [\"weather\"], [{}])[0] or {}\n",
        "            hourly_24h.append({\n",
        "                \"dt\": it.get(\"dt_txt\"),\n",
        "                \"temp\": round(_safe_get(it, [\"main\",\"temp\"], 0.0), 2),\n",
        "                \"pop\": round((it.get(\"pop\") or 0) * 100.0, 1),\n",
        "                \"description\": (w0.get(\"description\") or \"\").capitalize(),\n",
        "                \"icon\": w0.get(\"icon\", \"\")\n",
        "            })\n",
        "\n",
        "    # Final structure\n",
        "    data = {\n",
        "        \"meta\": {\"provider\": \"OpenWeatherMap\", \"fetched_at_utc\": fetched_at, \"units\": \"metric\"},\n",
        "        \"location\": {\"query\": location, \"name\": cur_json.get(\"name\", location),\n",
        "                     \"country\": _safe_get(cur_json, [\"sys\",\"country\"], \"\"),\n",
        "                     \"lat\": _safe_get(cur_json, [\"coord\",\"lat\"]),\n",
        "                     \"lon\": _safe_get(cur_json, [\"coord\",\"lon\"]),\n",
        "                     \"timezone_offset_seconds\": tz_seconds},\n",
        "        \"current\": current,\n",
        "        \"daily\": daily,\n",
        "    }\n",
        "    if hourly_24h is not None:\n",
        "        data[\"hourly_24h\"] = hourly_24h\n",
        "\n",
        "    # Save to cache\n",
        "    if use_cache:\n",
        "        _WEATHER_CACHE[cache_key] = {\"data\": data, \"fetched_at\": _now_utc()}\n",
        "\n",
        "    return data"
      ],
      "metadata": {
        "id": "TgQyBnXtzrKf"
      },
      "id": "TgQyBnXtzrKf",
      "execution_count": 62,
      "outputs": []
    },
    {
      "cell_type": "markdown",
      "source": [
        "### Cache helpers and quick test"
      ],
      "metadata": {
        "id": "Sx_Cj2JMz0y_"
      },
      "id": "Sx_Cj2JMz0y_"
    },
    {
      "cell_type": "code",
      "source": [
        "# Cache utilities and quick verification\n",
        "# Functions to check or clear cache, and test API output.\n",
        "\n",
        "def weather_cache_info():\n",
        "    \"\"\"Return number of cached entries and cache duration.\"\"\"\n",
        "    return {\"entries\": len(_WEATHER_CACHE), \"ttl_seconds\": _CACHE_TTL_SECONDS}\n",
        "\n",
        "def weather_cache_clear():\n",
        "    \"\"\"Clear all cached data.\"\"\"\n",
        "    _WEATHER_CACHE.clear()\n",
        "\n",
        "# Test The Functions\n",
        "import json\n",
        "\n",
        "# Happy path\n",
        "ok = get_weather_data(\"Perth,AU\", 3)\n",
        "print(json.dumps(ok, indent=2)[:600], \"...\")\n",
        "\n",
        "# Bad city\n",
        "bad = get_weather_data(\"NoSuchCityZZ,AU\", 3)\n",
        "print(bad)\n",
        "\n",
        "# Bad forecast_days\n",
        "bad_days = get_weather_data(\"Perth,AU\", 9)\n",
        "print(bad_days)"
      ],
      "metadata": {
        "colab": {
          "base_uri": "https://localhost:8080/"
        },
        "id": "KjEKuXpWz4pZ",
        "outputId": "9854101b-daec-4daf-d055-bd5341e3b67b"
      },
      "id": "KjEKuXpWz4pZ",
      "execution_count": 63,
      "outputs": [
        {
          "output_type": "stream",
          "name": "stdout",
          "text": [
            "{\n",
            "  \"meta\": {\n",
            "    \"provider\": \"OpenWeatherMap\",\n",
            "    \"fetched_at_utc\": \"2025-10-05T07:05:30.999168+00:00\",\n",
            "    \"units\": \"metric\"\n",
            "  },\n",
            "  \"location\": {\n",
            "    \"query\": \"Perth,AU\",\n",
            "    \"name\": \"Perth\",\n",
            "    \"country\": \"AU\",\n",
            "    \"lat\": -31.9333,\n",
            "    \"lon\": 115.8333,\n",
            "    \"timezone_offset_seconds\": 28800\n",
            "  },\n",
            "  \"current\": {\n",
            "    \"temp\": 16.43,\n",
            "    \"description\": \"Overcast clouds\",\n",
            "    \"humidity\": 61,\n",
            "    \"wind_speed\": 6.69,\n",
            "    \"icon\": \"04d\",\n",
            "    \"summary\": \"16.43\\u00b0C, Overcast clouds (Humidity 61%, Wind 6.69 m/s)\"\n",
            "  },\n",
            "  \"daily\": [\n",
            "    {\n",
            "      \"date\": \"2025-10-05\",\n",
            "      \"temp_min\": 12.28,\n",
            "      \"temp ...\n",
            "{'error': {'message': \"City not found: 'NoSuchCityZZ,AU'.\", 'code': 404, 'hint': None}}\n",
            "{'error': {'message': 'forecast_days must be between 1 and 5.', 'code': 'bad_input', 'hint': None}}\n"
          ]
        }
      ]
    },
    {
      "cell_type": "markdown",
      "source": [
        "## ⚙️ Shared Validators & Data Helpers\n",
        "\n",
        "Defines small, reusable utilities that support input validation, date ranges, and simple activity scoring.\n",
        "These helpers are independent of UI and API code, enabling reuse across modules and easier testing."
      ],
      "metadata": {
        "id": "Qyy3HmjWwwq2"
      },
      "id": "Qyy3HmjWwwq2"
    },
    {
      "cell_type": "markdown",
      "source": [
        "### Validators and date helpers"
      ],
      "metadata": {
        "id": "Vb7rwS082JwR"
      },
      "id": "Vb7rwS082JwR"
    },
    {
      "cell_type": "code",
      "source": [
        "# Minimal, reusable helpers (validation and date utilities)\n",
        "import re\n",
        "from datetime import datetime, timedelta, timezone\n",
        "\n",
        "def validate_location_format(loc: str) -> tuple[bool, str | None]:\n",
        "    \"\"\"Basic check for 'City' or 'City,CC'. Returns (is_valid, note_or_none).\"\"\"\n",
        "    if not isinstance(loc, str) or not loc.strip():\n",
        "        return False, \"Please enter a non-empty city name (e.g., 'Perth,AU').\"\n",
        "    loc = loc.strip()\n",
        "    if len(loc) < 2:\n",
        "        return False, \"City name seems too short.\"\n",
        "    # Letters, spaces, hyphens, dots, apostrophes, optional ',CC'\n",
        "    if not re.match(r\"^[A-Za-z .'\\-]+(,\\s*[A-Za-z]{2})?$\", loc):\n",
        "        # Permissive: allow unusual formats but return a note\n",
        "        return True, \"Note: unusual city format; attempting lookup anyway.\"\n",
        "    return True, None\n",
        "\n",
        "def daterange(start_date: datetime, days: int):\n",
        "    \"\"\"Yield consecutive dates from start_date for N days.\"\"\"\n",
        "    for i in range(days):\n",
        "        yield start_date + timedelta(days=i)"
      ],
      "metadata": {
        "id": "BowC8LWx2ZC-"
      },
      "id": "BowC8LWx2ZC-",
      "execution_count": 64,
      "outputs": []
    },
    {
      "cell_type": "markdown",
      "source": [
        "### Activity recommendation (hiking only)"
      ],
      "metadata": {
        "id": "Ju6bpY3B2jkx"
      },
      "id": "Ju6bpY3B2jkx"
    },
    {
      "cell_type": "code",
      "source": [
        "# Simple activity scoring (hiking only) based on daily forecast dicts\n",
        "def score_hiking_day(day: dict) -> tuple[int, list[str]]:\n",
        "    \"\"\"Return (score 0–100, reasons[]) for a given day.\"\"\"\n",
        "    reasons, score = [], 100\n",
        "    t_avg = day.get(\"temp_avg\")\n",
        "    pop   = day.get(\"pop\", 0.0)  # probability of precipitation in %\n",
        "\n",
        "    # Temperature bands\n",
        "    if t_avg is not None:\n",
        "        if t_avg < 5:     score -= 35; reasons.append(\"very cold\")\n",
        "        elif t_avg < 12:  score -= 15; reasons.append(\"cool\")\n",
        "        elif t_avg > 35:  score -= 30; reasons.append(\"extreme heat\")\n",
        "        elif t_avg > 30:  score -= 15; reasons.append(\"hot\")\n",
        "\n",
        "    # Rain chance\n",
        "    if pop >= 70:   score -= 40; reasons.append(\"high rain chance\")\n",
        "    elif pop >= 40: score -= 20; reasons.append(\"possible showers\")\n",
        "\n",
        "    score = max(0, min(100, score))\n",
        "    return score, reasons\n",
        "\n",
        "def recommend_activity(weather_data: dict, activity: str = \"hiking\", days: int | None = None) -> str:\n",
        "    \"\"\"Return a short recommendation summary for the next N days (hiking only).\"\"\"\n",
        "    if not isinstance(weather_data, dict) or \"error\" in weather_data:\n",
        "        return \"Activity assessment unavailable due to missing weather data.\"\n",
        "\n",
        "    daily = weather_data.get(\"daily\") or []\n",
        "    if not daily:\n",
        "        return \"No multi-day forecast available.\"\n",
        "\n",
        "    k = max(1, min(days or len(daily), len(daily)))\n",
        "    daily = daily[:k]\n",
        "\n",
        "    if activity.lower() != \"hiking\":\n",
        "        return f\"No model for {activity} yet—try 'hiking'.\"\n",
        "\n",
        "    lines, best = [], None\n",
        "    for d in daily:\n",
        "        score, reasons = score_hiking_day(d)\n",
        "        tag = \"✅ Good\" if score >= 75 else (\"⚠️ Fair\" if score >= 50 else \"❌ Poor\")\n",
        "        reason_txt = \", \".join(reasons) if reasons else \"conditions look fine\"\n",
        "        lines.append(f\"{d['date']}: {tag} ({score}/100) — {reason_txt}\")\n",
        "        best = max(best or (score, d['date']), (score, d['date']))\n",
        "\n",
        "    summary = f\"Recommendation for hiking in {weather_data['location']['name']} (next {k} days):\\n\" + \\\n",
        "              \"\\n\".join(\"- \" + x for x in lines)\n",
        "    if best:\n",
        "        summary += f\"\\n\\nBest day: {best[1]} (score {best[0]}/100).\"\n",
        "    return summary"
      ],
      "metadata": {
        "id": "2zOOhoiA2lND"
      },
      "id": "2zOOhoiA2lND",
      "execution_count": 65,
      "outputs": []
    },
    {
      "cell_type": "markdown",
      "id": "8a744fdc",
      "metadata": {
        "id": "8a744fdc"
      },
      "source": [
        "## 📊 Visualisation Functions\n",
        "\n",
        "Provides reusable plotting utilities for the Weather Advisor.\n",
        "<br> Charts are non-blocking (interactive) and accept an optional theme.\n",
        "<br> Inputs are the structured dict returned by get_weather_data()."
      ]
    },
    {
      "cell_type": "markdown",
      "source": [
        "### Theme helpers and imports"
      ],
      "metadata": {
        "id": "vtQKJ70V4COQ"
      },
      "id": "vtQKJ70V4COQ"
    },
    {
      "cell_type": "code",
      "source": [
        "# Visual style helpers used by all plots\n",
        "import matplotlib.pyplot as plt\n",
        "from datetime import datetime\n",
        "\n",
        "DEFAULT_THEME = {\n",
        "    \"temp_line\": \"orange\",\n",
        "    \"hourly_line\": \"orange\",\n",
        "    \"rain_bar\": \"skyblue\",\n",
        "    \"tmin_line\": \"blue\",\n",
        "    \"tmax_line\": \"red\",\n",
        "    \"bar_edge\": \"black\",\n",
        "    \"grid_alpha\": 0.6,\n",
        "}\n",
        "\n",
        "def apply_theme_color(theme: dict | None, key: str, fallback: str | None = None):\n",
        "    \"\"\"Return theme[key] if present, else fallback.\"\"\"\n",
        "    if isinstance(theme, dict) and key in theme:\n",
        "        return theme[key]\n",
        "    return fallback"
      ],
      "metadata": {
        "id": "A_TGsn2J4Axg"
      },
      "id": "A_TGsn2J4Axg",
      "execution_count": 66,
      "outputs": []
    },
    {
      "cell_type": "markdown",
      "source": [
        "### Temperature trend (daily average)"
      ],
      "metadata": {
        "id": "L7yDBGX14GaL"
      },
      "id": "L7yDBGX14GaL"
    },
    {
      "cell_type": "code",
      "source": [
        "# Line chart of daily average temperature\n",
        "def create_temperature_visualisation(weather_data, output_type='display', theme=None):\n",
        "    \"\"\"\n",
        "    Plots daily average temperature from weather_data['daily'].\n",
        "    Falls back to weather_data['forecast'] if needed.\n",
        "    \"\"\"\n",
        "    if not isinstance(weather_data, dict) or \"error\" in weather_data:\n",
        "        print(\"⚠️ Cannot create visualisation: missing or invalid weather data.\")\n",
        "        return None\n",
        "\n",
        "    title_location = weather_data.get(\"location\", {}).get(\"name\") or \"Selected Location\"\n",
        "\n",
        "    # Collect dates and temps\n",
        "    daily = weather_data.get(\"daily\") or []\n",
        "    dates, temps = [], []\n",
        "    if daily:\n",
        "        for row in daily:\n",
        "            d = row.get(\"date\")\n",
        "            t = row.get(\"temp_avg\", row.get(\"temp\"))\n",
        "            if d is None or t is None:\n",
        "                continue\n",
        "            dates.append(d); temps.append(float(t))\n",
        "    else:\n",
        "        for row in weather_data.get(\"forecast\", []):\n",
        "            d, t = row.get(\"date\"), row.get(\"temp\")\n",
        "            if d is None or t is None:\n",
        "                continue\n",
        "            dates.append(d); temps.append(float(t))\n",
        "\n",
        "    if not dates or not temps:\n",
        "        print(\"ℹ️ No temperature data available.\")\n",
        "        return None\n",
        "\n",
        "    # Sort chronologically (best effort)\n",
        "    try:\n",
        "        pairs = sorted([(datetime.strptime(d, \"%Y-%m-%d\"), t) for d, t in zip(dates, temps)], key=lambda x: x[0])\n",
        "        dates = [dt.strftime(\"%Y-%m-%d\") for dt, _ in pairs]\n",
        "        temps = [t for _, t in pairs]\n",
        "    except Exception:\n",
        "        pass\n",
        "\n",
        "    fig, ax = plt.subplots(figsize=(8, 4.5))\n",
        "    color = apply_theme_color(theme, \"temp_line\", \"orange\")\n",
        "    ax.plot(dates, temps, marker='o', linewidth=2, color=color, label=\"Avg Temp (°C)\")\n",
        "    ax.set_title(f\"Temperature Trend – {title_location}\")\n",
        "    ax.set_xlabel(\"Date\")\n",
        "    ax.set_ylabel(\"Temperature (°C)\")\n",
        "    ax.grid(True, linestyle='--', linewidth=0.5, alpha=apply_theme_color(theme, \"grid_alpha\", 0.6))\n",
        "    ax.legend(loc=\"best\")\n",
        "\n",
        "    for x, y in zip(dates, temps):\n",
        "        ax.annotate(f\"{y:.1f}°\", xy=(x, y), xytext=(0, 6), textcoords=\"offset points\", ha=\"center\", fontsize=8)\n",
        "\n",
        "    ymin, ymax = min(temps), max(temps)\n",
        "    if ymin == ymax: ymin -= 2; ymax += 2\n",
        "    ax.set_ylim(ymin - 1.0, ymax + 1.0)\n",
        "    plt.xticks(rotation=30, ha='right')\n",
        "    plt.tight_layout()\n",
        "\n",
        "    if output_type == 'figure':\n",
        "        return fig\n",
        "    try:\n",
        "        plt.show(block=False); plt.pause(0.001)\n",
        "    except Exception:\n",
        "        pass\n",
        "    return None\n",
        "\n",
        "# Example\n",
        "data = get_weather_data(\"Perth,AU\", forecast_days=3)\n",
        "create_temperature_visualisation(data)"
      ],
      "metadata": {
        "colab": {
          "base_uri": "https://localhost:8080/",
          "height": 387
        },
        "id": "Lf_lZd034J99",
        "outputId": "aaed1be9-da63-478c-f1d5-83f441ae8cf9"
      },
      "id": "Lf_lZd034J99",
      "execution_count": 67,
      "outputs": [
        {
          "output_type": "display_data",
          "data": {
            "text/plain": [
              "<Figure size 800x450 with 1 Axes>"
            ],
            "image/png": "[encoded data removed]"
          },
          "metadata": {}
        }
      ]
    },
    {
      "cell_type": "markdown",
      "source": [
        "### Precipitation probability"
      ],
      "metadata": {
        "id": "Gut5rhBm4Qd0"
      },
      "id": "Gut5rhBm4Qd0"
    },
    {
      "cell_type": "code",
      "source": [
        "# Bar chart of daily probability of precipitation\n",
        "def create_precipitation_visualisation(weather_data, output_type='display', theme=None):\n",
        "    \"\"\"Plots daily POP (%) from weather_data['daily']; falls back to descriptions if needed.\"\"\"\n",
        "    if not isinstance(weather_data, dict) or \"error\" in weather_data:\n",
        "        print(\"⚠️ Cannot create visualisation: missing or invalid weather data.\")\n",
        "        return None\n",
        "\n",
        "    def _theme(key, default):\n",
        "        try:\n",
        "            return apply_theme_color(theme, key, default)\n",
        "        except Exception:\n",
        "            return default\n",
        "\n",
        "    title_location = weather_data.get(\"location\", {}).get(\"name\") or \"Selected Location\"\n",
        "\n",
        "    dates, pops = [], []\n",
        "    daily = weather_data.get(\"daily\") or []\n",
        "    if daily:\n",
        "        for row in daily:\n",
        "            d, p = row.get(\"date\"), row.get(\"pop\")\n",
        "            if d is None or p is None:\n",
        "                continue\n",
        "            dates.append(d); pops.append(float(p))\n",
        "    else:\n",
        "        # Heuristic from text description\n",
        "        for row in weather_data.get(\"forecast\", []):\n",
        "            d = row.get(\"date\"); desc = (row.get(\"description\") or \"\").lower()\n",
        "            if not d: continue\n",
        "            if any(w in desc for w in (\"rain\", \"shower\", \"storm\")): prob = 60.0\n",
        "            elif \"cloud\" in desc: prob = 30.0\n",
        "            else: prob = 10.0\n",
        "            dates.append(d); pops.append(prob)\n",
        "\n",
        "    if not dates:\n",
        "        print(\"ℹ️ No precipitation data available for this period.\")\n",
        "        return None\n",
        "\n",
        "    # Sort chronologically\n",
        "    try:\n",
        "        pairs = sorted([(datetime.strptime(d, \"%Y-%m-%d\"), p) for d, p in zip(dates, pops)], key=lambda x: x[0])\n",
        "        dates = [dt.strftime(\"%Y-%m-%d\") for dt, _ in pairs]\n",
        "        pops  = [p for _, p in pairs]\n",
        "    except Exception:\n",
        "        pass\n",
        "\n",
        "    fig, ax = plt.subplots(figsize=(8, 4.5))\n",
        "    ax.bar(dates, pops,\n",
        "           label=\"Chance of Rain\",\n",
        "           color=_theme(\"rain_bar\", \"skyblue\"),\n",
        "           edgecolor=_theme(\"bar_edge\", \"black\"),\n",
        "           linewidth=0.2)\n",
        "    ax.set_title(f\"Precipitation Probability – {title_location}\")\n",
        "    ax.set_xlabel(\"Date\")\n",
        "    ax.set_ylabel(\"Chance of Rain (%)\")\n",
        "    ax.set_ylim(0, 100)\n",
        "    ax.grid(axis='y', linestyle='--', linewidth=0.5, alpha=_theme(\"grid_alpha\", 0.6))\n",
        "    ax.legend(loc=\"best\")\n",
        "\n",
        "    for i, v in enumerate(pops):\n",
        "        ax.text(i, min(v + 2, 100), f\"{v:.0f}%\", ha='center', va='bottom', fontsize=8)\n",
        "\n",
        "    plt.xticks(rotation=30, ha='right')\n",
        "    plt.tight_layout()\n",
        "\n",
        "    if output_type == 'figure':\n",
        "        return fig\n",
        "    try:\n",
        "        plt.show(block=False); plt.pause(0.001)\n",
        "    except Exception:\n",
        "        pass\n",
        "    return None\n",
        "\n",
        "# Example\n",
        "data = get_weather_data(\"Perth,AU\", forecast_days=3)\n",
        "create_precipitation_visualisation(data)"
      ],
      "metadata": {
        "colab": {
          "base_uri": "https://localhost:8080/",
          "height": 387
        },
        "id": "vCESTsEs4V6q",
        "outputId": "629c1ac7-14cd-4bb8-9b73-5a33128eb2d0"
      },
      "id": "vCESTsEs4V6q",
      "execution_count": 68,
      "outputs": [
        {
          "output_type": "display_data",
          "data": {
            "text/plain": [
              "<Figure size 800x450 with 1 Axes>"
            ],
            "image/png": "[encoded data removed]"
          },
          "metadata": {}
        }
      ]
    },
    {
      "cell_type": "markdown",
      "source": [
        "### Temperature range"
      ],
      "metadata": {
        "id": "a4aCOaA14cCA"
      },
      "id": "a4aCOaA14cCA"
    },
    {
      "cell_type": "code",
      "source": [
        "# Dual-line min/max with shaded band\n",
        "def create_temperature_range_visualisation(weather_data, output_type='display', theme=None):\n",
        "    \"\"\"Plots daily min/max temperatures with a shaded range.\"\"\"\n",
        "    if not isinstance(weather_data, dict) or \"error\" in weather_data:\n",
        "        print(\"⚠️ Cannot create visualisation: missing or invalid weather data.\")\n",
        "        return None\n",
        "\n",
        "    title_location = weather_data.get(\"location\", {}).get(\"name\") or \"Selected Location\"\n",
        "    daily = weather_data.get(\"daily\") or []\n",
        "    dates, tmin, tmax = [], [], []\n",
        "    for row in daily:\n",
        "        d, lo, hi = row.get(\"date\"), row.get(\"temp_min\"), row.get(\"temp_max\")\n",
        "        if d is None or lo is None or hi is None:\n",
        "            continue\n",
        "        dates.append(d); tmin.append(float(lo)); tmax.append(float(hi))\n",
        "\n",
        "    if not dates:\n",
        "        print(\"ℹ️ No temperature range data available.\")\n",
        "        return None\n",
        "\n",
        "    # Sort chronologically\n",
        "    try:\n",
        "        pairs = sorted([(datetime.strptime(d, \"%Y-%m-%d\"), lo, hi) for d, lo, hi in zip(dates, tmin, tmax)], key=lambda x: x[0])\n",
        "        dates = [dt.strftime(\"%Y-%m-%d\") for dt, _, _ in pairs]\n",
        "        tmin  = [lo for _, lo, _ in pairs]\n",
        "        tmax  = [hi for _, _, hi in pairs]\n",
        "    except Exception:\n",
        "        pass\n",
        "\n",
        "    fig, ax = plt.subplots(figsize=(8, 4.5))\n",
        "    c_max = apply_theme_color(theme, \"tmax_line\", \"red\")\n",
        "    c_min = apply_theme_color(theme, \"tmin_line\", \"blue\")\n",
        "    ax.plot(dates, tmax, marker='o', label=\"Max Temp (°C)\", color=c_max, linewidth=2)\n",
        "    ax.plot(dates, tmin, marker='o', label=\"Min Temp (°C)\", color=c_min, linewidth=2)\n",
        "    if len(dates) >= 2:\n",
        "        ax.fill_between(dates, tmin, tmax, alpha=0.2)\n",
        "\n",
        "    ax.set_title(f\"Temperature Range – {title_location}\")\n",
        "    ax.set_xlabel(\"Date\")\n",
        "    ax.set_ylabel(\"Temperature (°C)\")\n",
        "    ax.grid(True, linestyle='--', linewidth=0.5, alpha=apply_theme_color(theme, \"grid_alpha\", 0.6))\n",
        "    ax.legend(loc=\"best\")\n",
        "\n",
        "    for x, lo, hi in zip(dates, tmin, tmax):\n",
        "        mid = (lo + hi) / 2\n",
        "        ax.annotate(f\"{lo:.0f}–{hi:.0f}°\", xy=(x, mid), xytext=(0, 6), textcoords=\"offset points\", ha=\"center\", fontsize=8)\n",
        "\n",
        "    ymin, ymax = min(tmin + tmax), max(tmin + tmax)\n",
        "    if ymin == ymax: ymin -= 2; ymax += 2\n",
        "    ax.set_ylim(ymin - 1.0, ymax + 1.0)\n",
        "    plt.xticks(rotation=30, ha='right')\n",
        "    plt.tight_layout()\n",
        "\n",
        "    if output_type == 'figure':\n",
        "        return fig\n",
        "    try:\n",
        "        plt.show(block=False); plt.pause(0.001)\n",
        "    except Exception:\n",
        "        pass\n",
        "    return None\n",
        "\n",
        "# Example\n",
        "data = get_weather_data(\"Perth,AU\", forecast_days=5)\n",
        "create_temperature_range_visualisation(data)"
      ],
      "metadata": {
        "colab": {
          "base_uri": "https://localhost:8080/",
          "height": 387
        },
        "id": "PXe0uX-54fWA",
        "outputId": "c6b62d06-df06-4098-dd1f-7f3c2048e1f0"
      },
      "id": "PXe0uX-54fWA",
      "execution_count": 69,
      "outputs": [
        {
          "output_type": "display_data",
          "data": {
            "text/plain": [
              "<Figure size 800x450 with 1 Axes>"
            ],
            "image/png": "[encoded data removed]"
          },
          "metadata": {}
        }
      ]
    },
    {
      "cell_type": "markdown",
      "source": [
        "### Current wind & humidity"
      ],
      "metadata": {
        "id": "boetjhCC4iip"
      },
      "id": "boetjhCC4iip"
    },
    {
      "cell_type": "code",
      "source": [
        "# Simple side-by-side bars for current humidity and wind speed\n",
        "def create_wind_humidity_visualisation(weather_data, output_type='display', theme=None):\n",
        "    \"\"\"Plots current humidity (%) and wind speed (m/s) as two bars.\"\"\"\n",
        "    if not isinstance(weather_data, dict) or \"current\" not in weather_data:\n",
        "        print(\"⚠️ Invalid data.\")\n",
        "        return None\n",
        "\n",
        "    loc = weather_data[\"location\"].get(\"name\", \"Selected Location\")\n",
        "    cur = weather_data[\"current\"]\n",
        "    humidity = cur.get(\"humidity\", 0)\n",
        "    wind = cur.get(\"wind_speed\", 0)\n",
        "\n",
        "    fig, axs = plt.subplots(1, 2, figsize=(8, 4))\n",
        "\n",
        "    axs[0].bar([\"Humidity\"], [humidity], color=\"skyblue\")\n",
        "    axs[0].set_ylim(0, 100); axs[0].set_ylabel(\"%\"); axs[0].set_title(\"Humidity\")\n",
        "\n",
        "    axs[1].bar([\"Wind\"], [wind], color=\"tomato\")\n",
        "    axs[1].set_ylim(0, max(10, wind + 2)); axs[1].set_ylabel(\"m/s\"); axs[1].set_title(\"Wind Speed\")\n",
        "\n",
        "    fig.suptitle(f\"Current Humidity & Wind – {loc}\")\n",
        "    plt.tight_layout()\n",
        "\n",
        "    if output_type == 'figure':\n",
        "        return fig\n",
        "    try:\n",
        "        plt.show(block=False); plt.pause(0.001)\n",
        "    except Exception:\n",
        "        pass\n",
        "    return None\n",
        "\n",
        "# Example (optional)\n",
        "data = get_weather_data(\"Perth,AU\", forecast_days=3)\n",
        "create_wind_humidity_visualisation(data)"
      ],
      "metadata": {
        "colab": {
          "base_uri": "https://localhost:8080/",
          "height": 350
        },
        "id": "o5PggNqM4mnT",
        "outputId": "5c4fd93b-e24a-46ec-c48c-599fb34ff3a5"
      },
      "id": "o5PggNqM4mnT",
      "execution_count": 70,
      "outputs": [
        {
          "output_type": "display_data",
          "data": {
            "text/plain": [
              "<Figure size 800x400 with 2 Axes>"
            ],
            "image/png": "[encoded data removed]"
          },
          "metadata": {}
        }
      ]
    },
    {
      "cell_type": "markdown",
      "id": "9f95d160",
      "metadata": {
        "id": "9f95d160"
      },
      "source": [
        "## 🤖 Natural Language Processing\n",
        "\n",
        "Parses plain-English weather questions into structured intent and generates natural-language answers using fetched data.\n",
        "<br> Includes date parsing, location extraction, intent classification, and optional activity-aware logic (hiking)."
      ]
    },
    {
      "cell_type": "markdown",
      "source": [
        "### Date parsing helpers"
      ],
      "metadata": {
        "id": "k145WSiT6jLL"
      },
      "id": "k145WSiT6jLL"
    },
    {
      "cell_type": "code",
      "source": [
        "# Lightweight date parsing utilities (ISO and common formats)\n",
        "import re\n",
        "from datetime import datetime, timezone, timedelta\n",
        "\n",
        "def _try_parse_date_to_iso(s: str) -> str | None:\n",
        "    s = s.strip()\n",
        "    # ISO and D/M/Y\n",
        "    for fmt in (\"%Y-%m-%d\", \"%d/%m/%Y\", \"%d-%m-%Y\"):\n",
        "        try:\n",
        "            return datetime.strptime(s, fmt).date().isoformat()\n",
        "        except Exception:\n",
        "            pass\n",
        "    # D Month Y (8 October 2025)\n",
        "    month_names = (\"jan|january|feb|february|mar|march|apr|april|may|jun|june|jul|july|aug|august|\"\n",
        "                   \"sep|september|oct|october|nov|november|dec|december\")\n",
        "    m = re.search(rf\"\\b(\\d{{1,2}})\\s+({month_names})\\s+(\\d{{4}})\\b\", s, flags=re.I)\n",
        "    if m:\n",
        "        d, mon, y = m.group(1), m.group(2).lower(), int(m.group(3))\n",
        "        mm = {'jan':1,'january':1,'feb':2,'february':2,'mar':3,'march':3,'apr':4,'april':4,'may':5,\n",
        "              'jun':6,'june':6,'jul':7,'july':7,'aug':8,'august':8,'sep':9,'september':9,\n",
        "              'oct':10,'october':10,'nov':11,'november':11,'dec':12,'december':12}[mon]\n",
        "        try: return datetime(y, mm, int(d)).date().isoformat()\n",
        "        except Exception: return None\n",
        "    # Month D, Y (Oct 8, 2025)\n",
        "    m = re.search(rf\"\\b({month_names})\\s+(\\d{{1,2}})(?:st|nd|rd|th)?(?:,)?\\s+(\\d{{4}})\\b\", s, flags=re.I)\n",
        "    if m:\n",
        "        mon, d, y = m.group(1).lower(), int(m.group(2)), int(m.group(3))\n",
        "        mm = {'jan':1,'january':1,'feb':2,'february':2,'mar':3,'march':3,'apr':4,'april':4,'may':5,\n",
        "              'jun':6,'june':6,'jul':7,'july':7,'aug':8,'august':8,'sep':9,'september':9,\n",
        "              'oct':10,'october':10,'nov':11,'november':11,'dec':12,'december':12}[mon]\n",
        "        try: return datetime(y, mm, d).date().isoformat()\n",
        "        except Exception: return None\n",
        "    return None\n",
        "\n",
        "def _extract_explicit_date(q_raw: str) -> str | None:\n",
        "    \"\"\"Find and normalize explicit dates from the raw question.\"\"\"\n",
        "    m = re.search(r\"\\b(20\\d{2}-\\d{1,2}-\\d{1,2})\\b\", q_raw)\n",
        "    if m:\n",
        "        return _try_parse_date_to_iso(m.group(1))\n",
        "    m = re.search(r\"\\b(\\d{1,2}/\\d{1,2}/20\\d{2})\\b\", q_raw)\n",
        "    if m:\n",
        "        return _try_parse_date_to_iso(m.group(1))\n",
        "    return _try_parse_date_to_iso(q_raw)"
      ],
      "metadata": {
        "id": "MxYmoO346kwM"
      },
      "id": "MxYmoO346kwM",
      "execution_count": 71,
      "outputs": []
    },
    {
      "cell_type": "markdown",
      "source": [
        "### Location extractor"
      ],
      "metadata": {
        "id": "Ajlx7fOk6onu"
      },
      "id": "Ajlx7fOk6onu"
    },
    {
      "cell_type": "code",
      "source": [
        "# Extract a plausible location while ignoring dates/time phrases/activities\n",
        "def _extract_location(s: str) -> str | None:\n",
        "    if not isinstance(s, str) or not s.strip():\n",
        "        return None\n",
        "    text = s.strip()\n",
        "\n",
        "    # Remove explicit dates to avoid false matches\n",
        "    month_names = (\"jan|january|feb|february|mar|march|apr|april|may|jun|june|jul|july|aug|august|\"\n",
        "                   \"sep|september|oct|october|nov|november|dec|december\")\n",
        "    date_pattern = rf\"\"\"\n",
        "        (?:\\b20\\d{{2}}-\\d{{1,2}}-\\d{{1,2}}\\b) |\n",
        "        (?:\\b\\d{{1,2}}/\\d{{1,2}}/20\\d{{2}}\\b) |\n",
        "        (?:\\b\\d{{1,2}}\\s+(?:{month_names})\\s+\\d{{4}}\\b) |\n",
        "        (?:\\b(?:{month_names})\\s+\\d{{1,2}}(?:st|nd|rd|th)?(?:,)?\\s+\\d{{4}}\\b)\n",
        "    \"\"\"\n",
        "    text = re.sub(date_pattern, \" \", text, flags=re.I | re.VERBOSE)\n",
        "\n",
        "    time_phrase = re.compile(r\"\"\"^(\n",
        "        (?:the\\s+)?next\\s+\\d+\\s*(?:day|days)\\b |\n",
        "        next\\s+few\\s+days\\b |\n",
        "        today\\b | tomorrow\\b | tonight\\b |\n",
        "        this\\s+(?:week|weekend|morning|afternoon|evening)\\b\n",
        "    )\"\"\", flags=re.I | re.X)\n",
        "\n",
        "    STOP_LEAD = {\n",
        "        \"what\",\"whats\",\"what’s\",\"will\",\"is\",\"are\",\"do\",\"does\",\"should\",\"can\",\"could\",\n",
        "        \"show\",\"give\",\"tell\",\"temperature\",\"temp\",\"weather\",\"forecast\",\"rain\",\"hourly\",\n",
        "        \"please\",\"display\",\"chart\",\"graph\",\"next\",\"this\",\"today\",\"tomorrow\"\n",
        "    }\n",
        "    ACTIVITY_WORDS = {\"hike\",\"hiking\",\"picnic\",\"beach\",\"swim\",\"swimming\",\"surf\",\"surfing\"}\n",
        "    TRAILING_TIME = re.compile(r\"\"\"(\\s*,?\\s*)\\b(\n",
        "        today|tomorrow|tonight|this\\s+(?:week|weekend|morning|afternoon|evening)\n",
        "    )\\b.*$\"\"\", flags=re.I | re.X)\n",
        "\n",
        "    def clean_candidate(cand: str) -> str:\n",
        "        cand = cand.strip()\n",
        "        cand = re.sub(r\"[?!\\.;,:]+$\", \"\", cand).strip()\n",
        "        cand = TRAILING_TIME.sub(\"\", cand).strip()\n",
        "        return re.sub(r\"\\s+\", \" \", cand)\n",
        "\n",
        "    def is_valid_place_token(tok: str) -> bool:\n",
        "        t = tok.strip().lower()\n",
        "        if t in STOP_LEAD or t in ACTIVITY_WORDS: return False\n",
        "        if time_phrase.match(tok): return False\n",
        "        return True\n",
        "\n",
        "    candidates = []\n",
        "    for prep in (\"in\", \"at\", \"near\", \"around\"):\n",
        "        pat = re.compile(rf\"\\b{prep}\\s+([A-Za-z][A-Za-z\\.\\-'\\s]{{0,60}}(?:,\\s*[A-Za-z]{{2,3}})?)\", re.I)\n",
        "        for m in pat.finditer(text):\n",
        "            cand = clean_candidate(m.group(1))\n",
        "            if not cand: continue\n",
        "            head = cand.split()[0]\n",
        "            if len(cand) >= 3 and is_valid_place_token(head) and not re.match(r\"^(the\\s+)?next\\b\", cand, flags=re.I):\n",
        "                candidates.append((prep, cand))\n",
        "\n",
        "    if candidates:\n",
        "        last_in = [c for p, c in candidates if p == \"in\"]\n",
        "        return last_in[-1] if last_in else candidates[-1][1]\n",
        "    return None"
      ],
      "metadata": {
        "id": "yf-yg_pG6qab"
      },
      "id": "yf-yg_pG6qab",
      "execution_count": 72,
      "outputs": []
    },
    {
      "cell_type": "markdown",
      "source": [
        "### Base parser (intent extraction)"
      ],
      "metadata": {
        "id": "uWW8ZPnf6t-e"
      },
      "id": "uWW8ZPnf6t-e"
    },
    {
      "cell_type": "code",
      "source": [
        "# Map a question to attribute/time/location/forecast_days/question_type\n",
        "def parse_weather_question(question: str) -> dict:\n",
        "    \"\"\"\n",
        "    Returns a structured intent dict used by the app (attribute, time_period, n, forecast_days, location, target_date, question_type, raw).\n",
        "    \"\"\"\n",
        "    if not isinstance(question, str) or not question.strip():\n",
        "        return {\"error\": \"Empty question.\", \"raw\": question}\n",
        "\n",
        "    q_raw = question.strip()\n",
        "    q = q_raw.lower()\n",
        "\n",
        "    # Attribute\n",
        "    if re.search(r\"\\b(temp|temperature|hot|cold|warm|cool)\\b\", q):\n",
        "        attr = \"temperature\"\n",
        "    elif re.search(r\"\\b(rain|raining|rainy|shower|showers|precip|precipitation|umbrella|wet)\\b\", q):\n",
        "        attr = \"rain\"\n",
        "    elif re.search(r\"\\b(wind|windy|gust|gusts)\\b\", q):\n",
        "        attr = \"wind\"\n",
        "    elif re.search(r\"\\b(humidity|humid)\\b\", q):\n",
        "        attr = \"humidity\"\n",
        "    elif re.search(r\"\\b(weather|forecast|clear|cloud|cloudy|sunny|storm|snow|overcast)\\b\", q):\n",
        "        attr = \"conditions\"\n",
        "    else:\n",
        "        attr = \"conditions\"\n",
        "\n",
        "    # Date → time period\n",
        "    target_iso = _extract_explicit_date(q_raw)\n",
        "    time_period, n_days = None, None\n",
        "    if target_iso:\n",
        "        time_period = \"specific_date\"\n",
        "    else:\n",
        "        if re.search(r\"\\btoday\\b\", q):\n",
        "            time_period = \"today\"\n",
        "        elif re.search(r\"\\btomorrow\\b\", q):\n",
        "            time_period = \"tomorrow\"\n",
        "        else:\n",
        "            m = re.search(r\"\\bnext\\s+(\\d+)\\s*(day|days)\\b\", q)\n",
        "            if m:\n",
        "                n_days = max(1, min(int(m.group(1)), 5))\n",
        "                time_period = \"next_n_days\"\n",
        "            elif re.search(r\"\\bnext\\s+few\\s+days\\b\", q):\n",
        "                n_days = 3; time_period = \"next_n_days\"\n",
        "            elif re.search(r\"\\bthis\\s+week(end)?\\b\", q):\n",
        "                n_days = 3; time_period = \"next_n_days\"\n",
        "    if not time_period:\n",
        "        time_period = \"today\"\n",
        "\n",
        "    # Forecast horizon\n",
        "    if time_period == \"today\":\n",
        "        forecast_days = 1\n",
        "    elif time_period == \"tomorrow\":\n",
        "        forecast_days = 2\n",
        "    elif time_period == \"next_n_days\":\n",
        "        forecast_days = max(1, min(int(n_days or 3), 5))\n",
        "    elif time_period == \"specific_date\":\n",
        "        forecast_days = 5\n",
        "    else:\n",
        "        forecast_days = 3\n",
        "    forecast_days = max(1, min(int(forecast_days), 5))\n",
        "\n",
        "    # Question type\n",
        "    if re.match(r\"\\s*(will|is|are|do|does|should|can|could)\\b\", q):\n",
        "        question_type = \"yesno\"\n",
        "    elif re.search(r\"\\bforecast|weather\\b\", q) and attr == \"conditions\":\n",
        "        question_type = \"summary\"\n",
        "    else:\n",
        "        question_type = \"value\"\n",
        "\n",
        "    # Location\n",
        "    loc = _extract_location(q_raw)\n",
        "    if loc:\n",
        "        loc = re.sub(r\"\\s+\", \" \", loc)\n",
        "\n",
        "    return {\n",
        "        \"attribute\": attr,\n",
        "        \"time_period\": time_period,\n",
        "        \"n\": n_days,\n",
        "        \"forecast_days\": forecast_days,\n",
        "        \"location\": loc,\n",
        "        \"target_date\": target_iso,\n",
        "        \"question_type\": question_type,\n",
        "        \"raw\": q_raw\n",
        "    }\n",
        "\n",
        "# Optional wrapper: detect activity (hiking) and request a wider horizon\n",
        "def parse_weather_question_with_activities(question: str) -> dict:\n",
        "    base = parse_weather_question(question)\n",
        "    if not isinstance(base, dict) or \"error\" in base:\n",
        "        return base\n",
        "\n",
        "    q = (question or \"\").lower()\n",
        "    activity = None\n",
        "    if re.search(r\"\\b(hik(e|ing))\\b\", q) or re.search(r\"\\bgood\\s+for\\s+hiking\\b\", q):\n",
        "        activity = \"hiking\"\n",
        "    elif re.search(r\"\\b(picnic|beach|swim|swimming|surf(ing)?)\\b\", q):\n",
        "        activity = \"unsupported_activity\"\n",
        "\n",
        "    if activity:\n",
        "        base[\"activity\"] = activity\n",
        "        base[\"forecast_days\"] = max(3, min(5, int(base.get(\"forecast_days\", 3))))\n",
        "    return base"
      ],
      "metadata": {
        "id": "D98CYMwC6vFZ"
      },
      "id": "D98CYMwC6vFZ",
      "execution_count": 73,
      "outputs": []
    },
    {
      "cell_type": "markdown",
      "source": [
        "### Response generators"
      ],
      "metadata": {
        "id": "KRmouW0l6xgl"
      },
      "id": "KRmouW0l6xgl"
    },
    {
      "cell_type": "code",
      "source": [
        "# Convert parsed intent + weather_data into a natural-language reply\n",
        "def generate_weather_response(parsed_question: dict, weather_data: dict) -> str:\n",
        "    if not isinstance(parsed_question, dict):\n",
        "        return \"Unable to understand the question format.\"\n",
        "    if not isinstance(weather_data, dict):\n",
        "        return \"Weather information is unavailable at the moment.\"\n",
        "    if \"error\" in weather_data:\n",
        "        msg = weather_data[\"error\"].get(\"message\", \"An unknown error occurred.\")\n",
        "        hint = weather_data[\"error\"].get(\"hint\")\n",
        "        return f\"Could not retrieve the weather. {msg}\" + (f\" Hint: {hint}\" if hint else \"\")\n",
        "\n",
        "    attr   = (parsed_question.get(\"attribute\") or \"conditions\").lower()\n",
        "    period = parsed_question.get(\"time_period\") or \"today\"\n",
        "    n_days = parsed_question.get(\"n\")\n",
        "    qtype  = parsed_question.get(\"question_type\", \"value\")\n",
        "\n",
        "    loc_name   = weather_data.get(\"location\", {}).get(\"name\") or weather_data.get(\"location\") or \"the selected location\"\n",
        "    tz_seconds = weather_data.get(\"location\", {}).get(\"timezone_offset_seconds\", 0)\n",
        "\n",
        "    current = weather_data.get(\"current\") or {}\n",
        "    daily   = weather_data.get(\"daily\")  or []\n",
        "\n",
        "    def fmt_deg(v):\n",
        "        try: return f\"{float(v):.1f}°C\"\n",
        "        except: return \"N/A\"\n",
        "\n",
        "    def fmt_pct(v):\n",
        "        try: return f\"{float(v):.0f}%\"\n",
        "        except: return \"N/A\"\n",
        "\n",
        "    # Local \"today\" for index mapping\n",
        "    local_now = datetime.now(timezone.utc) + timedelta(seconds=tz_seconds)\n",
        "    local_today_str = local_now.date().strftime(\"%Y-%m-%d\")\n",
        "\n",
        "    idx_today, idx_tomorrow = None, None\n",
        "    if daily:\n",
        "        try: daily = sorted(daily, key=lambda d: d.get(\"date\", \"9999-12-31\"))\n",
        "        except Exception: pass\n",
        "        for i, drow in enumerate(daily):\n",
        "            ddate = drow.get(\"date\")\n",
        "            if not ddate: continue\n",
        "            if ddate == local_today_str and idx_today is None: idx_today = i\n",
        "            if ddate >  local_today_str and idx_tomorrow is None: idx_tomorrow = i\n",
        "        if idx_today is None and daily and daily[0].get(\"date\") == local_today_str: idx_today = 0\n",
        "        if idx_tomorrow is None and idx_today is not None and (idx_today + 1) < len(daily): idx_tomorrow = idx_today + 1\n",
        "\n",
        "    # Responses per period/attribute\n",
        "    if period == \"today\":\n",
        "        if attr == \"temperature\":\n",
        "            if idx_today is not None:\n",
        "                d = daily[idx_today]\n",
        "                return (f\"Today ({d.get('date')}) in {loc_name}: {fmt_deg(d.get('temp_avg'))} on average \"\n",
        "                        f\"(min {fmt_deg(d.get('temp_min'))}, max {fmt_deg(d.get('temp_max'))}).\")\n",
        "            cur = current.get(\"temp\")\n",
        "            desc = (current.get(\"description\") or \"\").lower()\n",
        "            return f\"Right now in {loc_name} it's {fmt_deg(cur)} and {desc or '—'}.\"\n",
        "        elif attr == \"rain\":\n",
        "            if idx_today is not None:\n",
        "                d = daily[idx_today]; pop = d.get(\"pop\", 0.0)\n",
        "                base = f\"The chance of rain today ({d.get('date')}) in {loc_name} is about {fmt_pct(pop)}.\"\n",
        "                return (\"Yes — \" if pop >= 50 else \"Probably not — \") + base if qtype == \"yesno\" else base\n",
        "            desc = (current.get(\"description\") or \"\").lower()\n",
        "            likely = \"likely\" if any(k in desc for k in [\"rain\",\"shower\"]) else \"unlikely\"\n",
        "            return f\"Rain is {likely} today in {loc_name} based on current conditions.\"\n",
        "        elif attr == \"wind\":\n",
        "            ws = current.get(\"wind_speed\")\n",
        "            return f\"Current wind in {loc_name} is {ws:.1f} m/s.\" if ws is not None else f\"Wind data isn't available for {loc_name} right now.\"\n",
        "        elif attr == \"humidity\":\n",
        "            h = current.get(\"humidity\")\n",
        "            return f\"Humidity in {loc_name} is {h}%.\" if h is not None else f\"Humidity data isn't available for {loc_name} right now.\"\n",
        "        else:\n",
        "            desc = current.get(\"description\")\n",
        "            return f\"Currently in {loc_name}: {desc}, {fmt_deg(current.get('temp'))}.\" if desc else f\"Current conditions unavailable for {loc_name}.\"\n",
        "\n",
        "    elif period == \"tomorrow\":\n",
        "        if idx_tomorrow is None:\n",
        "            return f\"No forecast available for tomorrow in {loc_name}.\"\n",
        "        d = daily[idx_tomorrow]; date = d.get(\"date\",\"tomorrow\")\n",
        "        if attr == \"temperature\":\n",
        "            return (f\"Tomorrow ({date}) in {loc_name}: {fmt_deg(d.get('temp_avg'))} on average \"\n",
        "                    f\"(min {fmt_deg(d.get('temp_min'))}, max {fmt_deg(d.get('temp_max'))}).\")\n",
        "        elif attr == \"rain\":\n",
        "            pop = d.get(\"pop\", 0.0)\n",
        "            return ((\"Yes\" if pop >= 50 else \"Probably not\") + f\". Chance of rain tomorrow ({date}) in {loc_name} is {fmt_pct(pop)}.\"\n",
        "                    if qtype == \"yesno\" else f\"Chance of rain tomorrow ({date}) in {loc_name} is {fmt_pct(pop)}.\")\n",
        "        elif attr == \"wind\":\n",
        "            return (f\"Daily wind speeds for tomorrow are not available in this feed. \"\n",
        "                    f\"Current wind is {current.get('wind_speed','N/A')} m/s.\")\n",
        "        elif attr == \"humidity\":\n",
        "            return (f\"Daily humidity for tomorrow is not provided in this feed. \"\n",
        "                    f\"Current humidity is {current.get('humidity','N/A')}% in {loc_name}.\")\n",
        "        else:\n",
        "            return f\"Tomorrow ({date}) in {loc_name} looks {d.get('description','—').lower()} around {fmt_deg(d.get('temp_avg'))}.\"\n",
        "\n",
        "    elif period == \"specific_date\":\n",
        "        target_date = parsed_question.get(\"target_date\")\n",
        "        if not target_date:\n",
        "            return f\"The requested date could not be read for {loc_name}.\"\n",
        "        match_idx = next((i for i, d in enumerate(daily) if d.get(\"date\") == target_date), None)\n",
        "        if match_idx is None:\n",
        "            if daily:\n",
        "                first, last = daily[0].get(\"date\",\"?\"), daily[-1].get(\"date\",\"?\")\n",
        "                return f\"Only a 5-day forecast is available: {first} to {last}. {target_date} is outside this range for {loc_name}.\"\n",
        "            return f\"No forecast includes {target_date} for {loc_name}.\"\n",
        "        d, date = daily[match_idx], target_date\n",
        "        if attr == \"temperature\":\n",
        "            return (f\"On {date} in {loc_name}: {fmt_deg(d.get('temp_avg'))} on average \"\n",
        "                    f\"(min {fmt_deg(d.get('temp_min'))}, max {fmt_deg(d.get('temp_max'))}).\")\n",
        "        elif attr == \"rain\":\n",
        "            pop = d.get(\"pop\", 0.0)\n",
        "            return ((\"Yes\" if pop >= 50 else \"Probably not\") + f\". Chance of rain on {date} in {loc_name} is {fmt_pct(pop)}.\"\n",
        "                    if qtype == \"yesno\" else f\"Chance of rain on {date} in {loc_name} is {fmt_pct(pop)}.\")\n",
        "        elif attr == \"wind\":\n",
        "            return (\"Daily wind speeds are not available for specific dates in this feed. \"\n",
        "                    f\"Current wind: {current.get('wind_speed','N/A')} m/s.\")\n",
        "        elif attr == \"humidity\":\n",
        "            return (\"Daily humidity is not provided for specific dates in this feed. \"\n",
        "                    f\"Current humidity: {current.get('humidity','N/A')}% in {loc_name}.\")\n",
        "        else:\n",
        "            return f\"On {date} in {loc_name} it looks {d.get('description','—').lower()} around {fmt_deg(d.get('temp_avg'))}.\"\n",
        "\n",
        "    elif period == \"next_n_days\":\n",
        "        k = max(1, min(int(n_days or 3), 5))\n",
        "        if not daily:\n",
        "            return f\"Multi-day forecast is unavailable for {loc_name}.\"\n",
        "        days = daily[:k]\n",
        "        if attr == \"temperature\":\n",
        "            parts = [f\"{d['date']}: avg {fmt_deg(d['temp_avg'])} (min {fmt_deg(d['temp_min'])}, max {fmt_deg(d['temp_max'])})\" for d in days]\n",
        "            return f\"Next {k} days in {loc_name}:\\n- \" + \"\\n- \".join(parts)\n",
        "        elif attr == \"rain\":\n",
        "            parts = [f\"{d['date']}: {fmt_pct(d.get('pop', 0))}\" for d in days]\n",
        "            return f\"Chance of rain over the next {k} days in {loc_name}:\\n- \" + \"\\n- \".join(parts)\n",
        "        elif attr == \"wind\":\n",
        "            return (f\"Daily wind forecasts are not available in this feed. \"\n",
        "                    f\"Current wind: {current.get('wind_speed','N/A')} m/s.\")\n",
        "        elif attr == \"humidity\":\n",
        "            return (f\"Daily humidity forecasts are not available in this feed. \"\n",
        "                    f\"Current humidity: {current.get('humidity','N/A')}% in {loc_name}.\")\n",
        "        else:\n",
        "            parts = [f\"{d['date']}: {d.get('description','—').lower()}, around {fmt_deg(d.get('temp_avg'))}\" for d in days]\n",
        "            return f\"Summary for the next {k} days in {loc_name}:\\n- \" + \"\\n- \".join(parts)\n",
        "\n",
        "    return f\"Current snapshot for {loc_name}: {weather_data.get('current', {}).get('summary','N/A')}\"\n",
        "\n",
        "# Optional wrapper: activity-aware reply (hiking only)\n",
        "def generate_weather_response_with_activities(parsed_question: dict, weather_data: dict) -> str:\n",
        "    if not isinstance(parsed_question, dict):\n",
        "        return \"Unable to understand the question format.\"\n",
        "    if not isinstance(weather_data, dict):\n",
        "        return \"Weather information is unavailable at the moment.\"\n",
        "    if \"error\" in weather_data:\n",
        "        msg = weather_data[\"error\"].get(\"message\", \"An unknown error occurred.\")\n",
        "        hint = weather_data[\"error\"].get(\"hint\")\n",
        "        return f\"Could not retrieve the weather. {msg}\" + (f\" Hint: {hint}\" if hint else \"\")\n",
        "\n",
        "    activity = (parsed_question or {}).get(\"activity\")\n",
        "    if activity:\n",
        "        if activity == \"hiking\":\n",
        "            if \"recommend_activity\" in globals():\n",
        "                days = parsed_question.get(\"forecast_days\", 3)\n",
        "                return recommend_activity(weather_data, activity=\"hiking\", days=days)\n",
        "            return \"Activity recommendations are not configured yet (add recommend_activity() in Shared Helpers).\"\n",
        "        return \"Activity recommendations are currently implemented only for hiking.\"\n",
        "\n",
        "    return generate_weather_response(parsed_question, weather_data)"
      ],
      "metadata": {
        "id": "S0hjPRs861XP"
      },
      "id": "S0hjPRs861XP",
      "execution_count": 74,
      "outputs": []
    },
    {
      "cell_type": "markdown",
      "source": [
        "Demonstration (Test)"
      ],
      "metadata": {
        "id": "MX7OJFkz67Cj"
      },
      "id": "MX7OJFkz67Cj"
    },
    {
      "cell_type": "code",
      "source": [
        "# Example parse → fetch → respond (optional smoke test)\n",
        "pq = parse_weather_question(\"Will it rain tomorrow in Perth?\")\n",
        "loc = pq.get(\"location\") or \"Perth,AU\"\n",
        "days = pq.get(\"forecast_days\", 3)\n",
        "\n",
        "data = get_weather_data(loc, forecast_days=days)\n",
        "reply = generate_weather_response(pq, data)\n",
        "print(reply)"
      ],
      "metadata": {
        "colab": {
          "base_uri": "https://localhost:8080/"
        },
        "id": "XNQlBtfP6-l0",
        "outputId": "f0ca08da-c784-4598-ac7c-fe3f80b03200"
      },
      "id": "XNQlBtfP6-l0",
      "execution_count": 75,
      "outputs": [
        {
          "output_type": "stream",
          "name": "stdout",
          "text": [
            "Probably not. Chance of rain tomorrow (2025-10-06) in Perth is 0%.\n"
          ]
        }
      ]
    },
    {
      "cell_type": "markdown",
      "id": "0d85225e",
      "metadata": {
        "id": "0d85225e"
      },
      "source": [
        "## 🧭 User Interface\n",
        "\n",
        "This section defines all user-interaction components of Weather Wise.\n",
        "It uses pyinputplus for input validation, manages the console menus and chatbot prompts,\n",
        "and connects to earlier logic for weather retrieval, NLP parsing, and visualisation.\n",
        "No main program logic runs here; the actual launch is handled in Section 8."
      ]
    },
    {
      "cell_type": "markdown",
      "source": [
        "### UI imports, globals, and helpers"
      ],
      "metadata": {
        "id": "qK8fH85T9FB6"
      },
      "id": "qK8fH85T9FB6"
    },
    {
      "cell_type": "code",
      "source": [
        "import pyinputplus as pyip\n",
        "import json\n",
        "import re\n",
        "import time\n",
        "from textwrap import dedent\n",
        "\n",
        "# Global default location\n",
        "DEFAULT_LOCATION = \"Perth,AU\"\n",
        "\n",
        "# Basic UI printing helpers for consistent style\n",
        "def ui_header(title: str):\n",
        "    print(\"\\n\" + \"=\" * 60)\n",
        "    print(title)\n",
        "    print(\"=\" * 60)\n",
        "\n",
        "def ui_info(msg: str): print(f\"ℹ️  {msg}\")\n",
        "def ui_ok(msg: str):   print(f\"✅ {msg}\")\n",
        "def ui_warn(msg: str): print(f\"⚠️ {msg}\")\n",
        "def ui_err(msg: str):  print(f\"❌ {msg}\")\n",
        "\n",
        "def ui_press_enter(message=\"\\nPress Enter to continue...\"):\n",
        "    input(message)\n",
        "\n",
        "# Non-blocking plot refresher for Matplotlib\n",
        "def _render_plot_nonblocking():\n",
        "    \"\"\"Refresh plot window without freezing UI loops.\"\"\"\n",
        "    try:\n",
        "        import matplotlib.pyplot as plt\n",
        "        plt.show(block=False)\n",
        "        plt.pause(0.001)\n",
        "    except Exception:\n",
        "        pass\n",
        "\n",
        "# Common city aliases for convenience\n",
        "COMMON_CITY_ALIASES = {\n",
        "    \"melb\": \"Melbourne,AU\",\n",
        "    \"syd\": \"Sydney,AU\",\n",
        "    \"per\":  \"Perth,AU\",\n",
        "    \"jak\":  \"Jakarta,ID\",\n",
        "    \"lon\":  \"London,UK\",\n",
        "    \"nyc\":  \"New York,US\",\n",
        "}\n",
        "\n",
        "def normalize_city_input(user_input):\n",
        "    \"\"\"Expand short/partial city names into full forms.\"\"\"\n",
        "    cleaned = user_input.strip().lower().replace(\".\", \"\").replace(\",\", \"\")\n",
        "    for short, full in COMMON_CITY_ALIASES.items():\n",
        "        if cleaned.startswith(short):\n",
        "            print(f\"💡 Interpreting '{user_input}' as '{full}'\")\n",
        "            return full\n",
        "    return user_input\n",
        "\n",
        "# Prompt helpers\n",
        "def ui_get_city(default_location=None):\n",
        "    \"\"\"Prompt for city; blank uses default.\"\"\"\n",
        "    if default_location is None:\n",
        "        default_location = DEFAULT_LOCATION\n",
        "    print(\"\\n🌍 You can type just the city name (e.g., 'Perth') or include a country code (e.g., 'Sydney,AU').\")\n",
        "    print(\"If you just press Enter, the default location will be used.\")\n",
        "\n",
        "    city = pyip.inputStr(\n",
        "        prompt=f\"Which city would you like to check the weather for? [Default: {default_location}]: \",\n",
        "        blank=True\n",
        "    ).strip()\n",
        "\n",
        "    if not city:\n",
        "        ui_info(f\"No city entered. Using default: {default_location}\")\n",
        "        city = default_location\n",
        "\n",
        "    return normalize_city_input(city)\n",
        "\n",
        "def ui_get_days(default=3):\n",
        "    \"\"\"Prompt for forecast horizon (1–5 days).\"\"\"\n",
        "    print(\"\\n📅 Great! Now let's choose how many days of forecast you'd like to see.\")\n",
        "    print(\"Tip: Enter 1 for today only, or up to 5 for a full 5-day forecast.\\n\")\n",
        "    days = pyip.inputInt(\n",
        "        prompt=f\"How many days would you like? [Default: {default}]: \",\n",
        "        min=1, max=5, blank=True\n",
        "    )\n",
        "    return days or default\n",
        "\n",
        "# Table displays (non-plot)\n",
        "def ui_show_current_summary(data: dict):\n",
        "    loc = data[\"location\"][\"name\"]\n",
        "    print(f\"\\n— Current in {loc} —\")\n",
        "    print(data[\"current\"][\"summary\"])\n",
        "    tz = data[\"location\"].get(\"timezone_offset_seconds\", 0)\n",
        "    print(f\"Timezone offset: {tz//3600:+d}h\")\n",
        "\n",
        "def ui_show_daily_table(data: dict):\n",
        "    print(\"\\n— Daily Forecast —\")\n",
        "    if not data.get(\"daily\"):\n",
        "        ui_info(\"No daily forecast available.\")\n",
        "        return\n",
        "    for d in data[\"daily\"]:\n",
        "        print(f\"{d['date']}: {d['description']} | avg {d['temp_avg']}°C \"\n",
        "              f\"(min {d['temp_min']}°C, max {d['temp_max']}°C) | rain {d['pop']}%\")\n",
        "\n",
        "# Match-check between user input and API result\n",
        "def is_city_match(requested_city, api_result):\n",
        "    \"\"\"Allow small format differences while rejecting vague inputs.\"\"\"\n",
        "    if not api_result or \"location\" not in api_result:\n",
        "        return False\n",
        "\n",
        "    api_name = (api_result[\"location\"].get(\"name\") or \"\").strip().lower()\n",
        "    api_country = (api_result[\"location\"].get(\"country\") or \"\").strip().lower()\n",
        "    req_name = requested_city.strip().lower()\n",
        "\n",
        "    req_name = re.sub(r\"[^a-z0-9 ]+\", \"\", req_name)\n",
        "    api_name = re.sub(r\"[^a-z0-9 ]+\", \"\", api_name)\n",
        "    if api_country and api_country in req_name:\n",
        "        req_name = req_name.replace(api_country, \"\").strip()\n",
        "\n",
        "    if len(req_name) < 3: return False\n",
        "    if req_name == api_name: return True\n",
        "    if api_name.startswith(req_name) or req_name.startswith(api_name): return True\n",
        "    return False"
      ],
      "metadata": {
        "id": "NN9lXDpC9HEv"
      },
      "id": "NN9lXDpC9HEv",
      "execution_count": 76,
      "outputs": []
    },
    {
      "cell_type": "markdown",
      "source": [
        "### Dashboard flow"
      ],
      "metadata": {
        "id": "AXpL-_es9eXE"
      },
      "id": "AXpL-_es9eXE"
    },
    {
      "cell_type": "code",
      "source": [
        "# UI: DASHBOARD\n",
        "# Validates a city\n",
        "# Fetches the forecast\n",
        "# Provides a small menu of charts to view\n",
        "\n",
        "def ui_dashboard():\n",
        "    ui_header(\"Weather Dashboard\")\n",
        "    city = ui_get_city()\n",
        "    ui_info(f\"Checking if '{city}' is a valid city...\")\n",
        "    test_data = get_weather_data(city, forecast_days=1, include_hourly_24h=False)\n",
        "\n",
        "    # Validate API response\n",
        "    if not isinstance(test_data, dict) or \"error\" in test_data:\n",
        "        ui_err(test_data.get(\"error\", {}).get(\"message\", \"Unable to fetch weather.\"))\n",
        "        hint = test_data.get(\"error\", {}).get(\"hint\")\n",
        "        if hint: ui_info(hint)\n",
        "        retry = pyip.inputYesNo(\"Would you like to try another city? (yes/no): \")\n",
        "        if retry == \"yes\": return ui_dashboard()\n",
        "        else:\n",
        "            ui_info(\"Returning to main menu...\")\n",
        "            return\n",
        "\n",
        "    # Check city match\n",
        "    if not is_city_match(city, test_data):\n",
        "        found_name = test_data.get(\"location\", {}).get(\"name\", \"Unknown\")\n",
        "        ui_warn(f\"Your input '{city}' matched another city called '{found_name}'. Please enter the full city name or include the country code.\")\n",
        "        retry = pyip.inputYesNo(\"Would you like to try another city? (yes/no): \")\n",
        "        if retry == \"yes\": return ui_dashboard()\n",
        "        else:\n",
        "            ui_info(\"Returning to main menu...\")\n",
        "            return\n",
        "\n",
        "    ui_ok(f\"City '{city}' found and validated successfully!\")\n",
        "    days = ui_get_days(default=5)\n",
        "    ui_info(f\"Fetching {days}-day forecast for {city} ...\")\n",
        "    data = get_weather_data(city, forecast_days=days, include_hourly_24h=True)\n",
        "    ui_ok(\"Data retrieved successfully.\")\n",
        "    ui_show_current_summary(data)\n",
        "    ui_show_daily_table(data)\n",
        "\n",
        "    # Chart selection loop\n",
        "    while True:\n",
        "        print(\"\\nWhat would you like to visualise?\")\n",
        "        choice = pyip.inputMenu(\n",
        "            [\"Temperature Trend\", \"Precipitation Probability\", \"Temperature Range (Min–Max)\",\n",
        "             \"Wind & Humidity (Current)\", \"Back to Main Menu\"],\n",
        "            numbered=True\n",
        "        )\n",
        "        ui_info(f\"You chose: {choice}\")\n",
        "\n",
        "        try:\n",
        "            if choice == \"Temperature Trend\":\n",
        "                create_temperature_visualisation(data)\n",
        "            elif choice == \"Precipitation Probability\":\n",
        "                create_precipitation_visualisation(data)\n",
        "            elif choice == \"Temperature Range (Min–Max)\":\n",
        "                create_temperature_range_visualisation(data)\n",
        "            elif choice == \"Wind & Humidity (Current)\":\n",
        "                create_wind_humidity_visualisation(data)\n",
        "            elif choice == \"Back to Main Menu\":\n",
        "                ui_info(\"Returning to Main Menu...\")\n",
        "                break\n",
        "\n",
        "            _render_plot_nonblocking()\n",
        "            time.sleep(0.5)\n",
        "            print(\"\\n✅ Chart displayed successfully.\")\n",
        "            print(\"You can view another chart or go back to the main menu.\")\n",
        "            print(\"\\n\" + \"-\" * 60 + \"\\n\")\n",
        "            time.sleep(0.5)\n",
        "\n",
        "        except Exception as e:\n",
        "            ui_warn(f\"Couldn't render the chart: {e}\")\n",
        "            print(\"\\n\" + \"-\" * 60 + \"\\n\")\n",
        "            time.sleep(0.5)"
      ],
      "metadata": {
        "id": "m9H2gX029gy0"
      },
      "id": "m9H2gX029gy0",
      "execution_count": 77,
      "outputs": []
    },
    {
      "cell_type": "markdown",
      "source": [
        "### Quick fetch (debug/inspection)"
      ],
      "metadata": {
        "id": "c_h2yAQY9lzx"
      },
      "id": "c_h2yAQY9lzx"
    },
    {
      "cell_type": "code",
      "source": [
        "# UI: QUICK FETCH (DEBUG)\n",
        "# Fetches and prints a trimmed JSON preview (for inspection)\n",
        "\n",
        "def ui_quick_fetch():\n",
        "    ui_header(\"Quick Fetch (Debug)\")\n",
        "    city = ui_get_city()\n",
        "    days = ui_get_days(default=3)\n",
        "    ui_info(f\"Fetching {days}-day forecast for {city} ...\")\n",
        "    data = get_weather_data(city, forecast_days=days, include_hourly_24h=True)\n",
        "    if not isinstance(data, dict) or \"error\" in data:\n",
        "        ui_err(data.get(\"error\", {}).get(\"message\", \"Unable to fetch weather.\"))\n",
        "        hint = data.get(\"error\", {}).get(\"hint\")\n",
        "        if hint: ui_info(hint)\n",
        "        ui_press_enter()\n",
        "        return\n",
        "    print(\"\\nPreview:\")\n",
        "    print(json.dumps(data, indent=2)[:1200], \"...\")\n",
        "    ui_press_enter()"
      ],
      "metadata": {
        "id": "945km1WD9o2m"
      },
      "id": "945km1WD9o2m",
      "execution_count": 78,
      "outputs": []
    },
    {
      "cell_type": "markdown",
      "source": [
        "### Chat Mode"
      ],
      "metadata": {
        "id": "aHWBqJ0x9tcH"
      },
      "id": "aHWBqJ0x9tcH"
    },
    {
      "cell_type": "code",
      "source": [
        "# UI: CHAT MODE\n",
        "# Parses a freeform question\n",
        "# Resolves/validates the location\n",
        "# Fetches the appropriate horizon\n",
        "# Generates a natural-language reply (+ optional related chart)\n",
        "\n",
        "def ui_chat():\n",
        "    ui_header(\"Chat Mode\")\n",
        "    # Choose parser/responder\n",
        "    parser_fn = None\n",
        "    responder_fn = None\n",
        "\n",
        "    if 'parse_weather_question_with_activities' in globals():\n",
        "        parser_fn = globals()['parse_weather_question_with_activities']\n",
        "    elif 'parse_weather_question' in globals():\n",
        "        parser_fn = globals()['parse_weather_question']\n",
        "\n",
        "    if 'generate_weather_response_with_activities' in globals():\n",
        "        responder_fn = globals()['generate_weather_response_with_activities']\n",
        "    elif 'generate_weather_response' in globals():\n",
        "        responder_fn = globals()['generate_weather_response']\n",
        "\n",
        "    if not (parser_fn and responder_fn):\n",
        "        ui_warn(\"Natural language features are not available yet in this notebook.\")\n",
        "        ui_press_enter()\n",
        "        return\n",
        "\n",
        "    # Greeting\n",
        "    print(\"🌸 Hi there! I’m Aurora — your Weather Wise chatbot assistant ☁️\")\n",
        "    print(\"You can ask me about:\")\n",
        "    print(\"• 🌤  Weather forecasts (temperature, rain, wind, humidity)\")\n",
        "    print(\"• 🥾 Activity recommendations (currently available for hiking only)\")\n",
        "    print(\"💡 Tip: Please include a city or location in your question so I can fetch accurate results.\")\n",
        "    print(\"Examples:\")\n",
        "    print(\"• Will it rain tomorrow in Sydney?\")\n",
        "    print(\"• Is tomorrow good for hiking in Perth?\")\n",
        "    print(\"• Show temperature for the next 3 days in Melbourne\")\n",
        "    print(f\"If you forget, I'll use your default location ({DEFAULT_LOCATION}).\")\n",
        "    print(\"Type 'back' anytime to return to the main menu.\\n\")\n",
        "\n",
        "    default_loc = DEFAULT_LOCATION\n",
        "\n",
        "    # Conversation loop\n",
        "    while True:\n",
        "        q = pyip.inputStr(\"🧑 You: \").strip()\n",
        "        if q.lower() in {\"back\", \"exit\", \"quit\"}:\n",
        "            print(\"👋 Aurora: Goodbye! Stay safe and enjoy your day ☀️\")\n",
        "            break\n",
        "\n",
        "        parsed = parser_fn(q)\n",
        "        if not isinstance(parsed, dict) or \"error\" in parsed:\n",
        "            ui_warn(parsed.get(\"error\", \"Sorry, I couldn't understand that.\"))\n",
        "            continue\n",
        "\n",
        "        # Resolve & validate location\n",
        "        raw_loc = parsed.get(\"location\")\n",
        "        if not raw_loc:\n",
        "            loc = default_loc\n",
        "            print(f\"ℹ️  No city detected. Using default: {default_loc}\")\n",
        "        else:\n",
        "            loc = raw_loc.strip()\n",
        "            # Remove accidental leading prepositions (rare)\n",
        "            loc = re.sub(r\"^\\b(?:in|at|for|near|around)\\b\\s+\", \"\", loc, flags=re.I).strip()\n",
        "            # Alias normalization (melb→Melbourne,AU)\n",
        "            loc = normalize_city_input(loc)\n",
        "            # Collapse whitespace\n",
        "            loc = re.sub(r\"\\s+\", \" \", loc).strip()\n",
        "\n",
        "        if len(loc) < 3 or loc.lower() in {\n",
        "            \"temperature\",\"temp\",\"what\",\"whats\",\"what’s\",\"weather\",\"forecast\",\"hourly\",\"today\",\"tomorrow\"\n",
        "        }:\n",
        "            print(\"⚠️ Aurora: No valid city detected. Using default instead.\")\n",
        "            loc = default_loc\n",
        "\n",
        "        # Quick validation fetch\n",
        "        test_data = get_weather_data(loc, forecast_days=1, include_hourly_24h=False)\n",
        "        if not isinstance(test_data, dict) or \"error\" in test_data:\n",
        "            msg  = (test_data.get(\"error\", {}) or {}).get(\"message\", f\"City not found: '{loc}'.\")\n",
        "            hint = (test_data.get(\"error\", {}) or {}).get(\"hint\")\n",
        "            print(f\"🙁 Aurora: {msg}\")\n",
        "            if hint:\n",
        "                print(f\"ℹ️  {hint}\")\n",
        "            retry = pyip.inputYesNo(\"Try another city? (yes/no): \")\n",
        "            if retry == \"yes\":\n",
        "                loc2 = pyip.inputStr(\"Enter a city (e.g., 'Melbourne,AU'): \").strip()\n",
        "                loc2 = normalize_city_input(loc2) if loc2 else default_loc\n",
        "                test_data = get_weather_data(loc2, forecast_days=1, include_hourly_24h=False)\n",
        "                if not isinstance(test_data, dict) or \"error\" in test_data:\n",
        "                    print(\"🙁 Aurora: Still couldn't find that place. Try another question.\")\n",
        "                    continue\n",
        "                loc = loc2\n",
        "            else:\n",
        "                continue\n",
        "\n",
        "        # Ambiguity handling\n",
        "        if not is_city_match(loc, test_data):\n",
        "            found_name = test_data.get(\"location\", {}).get(\"name\", \"Unknown\")\n",
        "            print(f\"⚠️  '{loc}' matched '{found_name}'. Consider 'City,CountryCode'.\")\n",
        "            accept = pyip.inputYesNo(f\"Use '{found_name}'? (yes/no): \")\n",
        "            if accept == \"yes\":\n",
        "                loc = found_name\n",
        "            else:\n",
        "                loc2 = pyip.inputStr(\"Enter a city (e.g., 'Melbourne,AU'): \").strip()\n",
        "                loc2 = normalize_city_input(loc2) if loc2 else default_loc\n",
        "                test2 = get_weather_data(loc2, forecast_days=1, include_hourly_24h=False)\n",
        "                if not isinstance(test2, dict) or \"error\" in test2:\n",
        "                    print(\"🙁 Aurora: Couldn't validate that place either.\")\n",
        "                    continue\n",
        "                loc = loc2\n",
        "                test_data = test2\n",
        "\n",
        "        # Full fetch for actual horizon from parsed intent\n",
        "        days = parsed.get(\"forecast_days\", 3)\n",
        "        data = get_weather_data(loc, forecast_days=days, include_hourly_24h=True)\n",
        "        if not isinstance(data, dict) or \"error\" in data:\n",
        "            msg  = (data.get(\"error\", {}) or {}).get(\"message\", f\"Couldn't fetch weather for '{loc}'.\")\n",
        "            hint = (data.get(\"error\", {}) or {}).get(\"hint\")\n",
        "            print(f\"🙁 Aurora: {msg}\")\n",
        "            if hint:\n",
        "                print(f\"ℹ️  {hint}\")\n",
        "            continue\n",
        "\n",
        "        # Primary answer (activity-aware if available)\n",
        "        answer = responder_fn(parsed, data)\n",
        "        print(f\"💬 Aurora: {answer}\\n\")\n",
        "\n",
        "        # Optional related chart (contextual)\n",
        "        attr = (parsed.get(\"attribute\") or \"\").lower()\n",
        "        period = parsed.get(\"time_period\")\n",
        "        activity = parsed.get(\"activity\")\n",
        "\n",
        "        try:\n",
        "            if not activity:\n",
        "                if \"rain\" in attr:\n",
        "                    create_precipitation_visualisation(data)\n",
        "                elif \"temperature\" in attr and period == \"next_n_days\":\n",
        "                    create_temperature_visualisation(data)\n",
        "                elif \"temperature\" in attr and period in {\"today\", \"tomorrow\"}:\n",
        "                    create_temperature_range_visualisation(data)\n",
        "                elif \"wind\" in attr or \"humidity\" in attr:\n",
        "                    create_wind_humidity_visualisation(data)\n",
        "        except Exception as e:\n",
        "            ui_warn(f\"Couldn't render a related chart: {e}\")\n",
        "\n",
        "        _render_plot_nonblocking()\n",
        "        print(\"\\n✅ Chart (if any) displayed. Ask another question, or type 'back' to return.\")\n",
        "        print(\"-\" * 60)"
      ],
      "metadata": {
        "id": "7gUhSKcF9usl"
      },
      "id": "7gUhSKcF9usl",
      "execution_count": 79,
      "outputs": []
    },
    {
      "cell_type": "markdown",
      "source": [
        "### Settings"
      ],
      "metadata": {
        "id": "VGV60emJFBeR"
      },
      "id": "VGV60emJFBeR"
    },
    {
      "cell_type": "code",
      "source": [
        "# UI: SETTINGS\n",
        "# Change default location\n",
        "\n",
        "def ui_settings():\n",
        "    global DEFAULT_LOCATION\n",
        "    ui_header(\"Settings\")\n",
        "    print(f\"Current default location: {DEFAULT_LOCATION}\")\n",
        "    new_loc = pyip.inputStr(\"Set new default location (blank to keep current): \", blank=True).strip()\n",
        "    if new_loc:\n",
        "        DEFAULT_LOCATION = new_loc\n",
        "        ui_ok(f\"Default location set to: {DEFAULT_LOCATION}\")\n",
        "    else:\n",
        "        ui_info(\"Default location unchanged.\")\n",
        "    ui_press_enter()"
      ],
      "metadata": {
        "id": "O12A3ZtrFC_l"
      },
      "id": "O12A3ZtrFC_l",
      "execution_count": 80,
      "outputs": []
    },
    {
      "cell_type": "markdown",
      "id": "d643a53c",
      "metadata": {
        "id": "d643a53c"
      },
      "source": [
        "## 🧩 Main Application Logic\n",
        "\n",
        "This final section ties everything together.\n",
        "<br> It defines run_app(), which presents the main menu and routes the user to the appropriate UI module (Dashboard, Chat, Quick Fetch, Settings).\n",
        "<br> The separate launch cell ensures all definitions above can be safely re-executed without restarting the interface."
      ]
    },
    {
      "cell_type": "markdown",
      "source": [
        "### Router / Main Menu"
      ],
      "metadata": {
        "id": "JAqWAL-_GYJH"
      },
      "id": "JAqWAL-_GYJH"
    },
    {
      "cell_type": "code",
      "source": [
        "# MAIN APPLICATION LOGIC — ROUTER\n",
        "\n",
        "def run_app():\n",
        "    \"\"\"Route to main menu options and invoke corresponding UI modules.\"\"\"\n",
        "    while True:\n",
        "        ui_header(\"Weather Wise — Main Menu\")\n",
        "        choice = pyip.inputMenu(\n",
        "            [\"Dashboard\", \"Chat\", \"Quick Fetch (Debug)\", \"Settings\", \"Exit\"],\n",
        "            numbered=True\n",
        "        )\n",
        "        if choice == \"Dashboard\":\n",
        "            ui_dashboard()\n",
        "        elif choice == \"Chat\":\n",
        "            ui_chat()\n",
        "        elif choice == \"Quick Fetch (Debug)\":\n",
        "            ui_quick_fetch()\n",
        "        elif choice == \"Settings\":\n",
        "            ui_settings()\n",
        "        else:\n",
        "            ui_info(\"Goodbye!\")\n",
        "            break"
      ],
      "metadata": {
        "id": "oF0HsiVIGanz"
      },
      "id": "oF0HsiVIGanz",
      "execution_count": 81,
      "outputs": []
    },
    {
      "cell_type": "markdown",
      "source": [
        "### **Launch**"
      ],
      "metadata": {
        "id": "IWlDL3sPGfoJ"
      },
      "id": "IWlDL3sPGfoJ"
    },
    {
      "cell_type": "code",
      "source": [
        "# LAUNCH THE INTERACTIVE APP\n",
        "\n",
        "run_app()"
      ],
      "metadata": {
        "colab": {
          "base_uri": "https://localhost:8080/",
          "height": 1000
        },
        "collapsed": true,
        "id": "4l-6ITAcGjXu",
        "outputId": "9ef52cf0-a57f-4242-bd67-f7e69581d71b"
      },
      "id": "4l-6ITAcGjXu",
      "execution_count": 83,
      "outputs": [
        {
          "output_type": "stream",
          "name": "stdout",
          "text": [
            "\n",
            "============================================================\n",
            "Weather Wise — Main Menu\n",
            "============================================================\n",
            "Please select one of the following:\n",
            "1. Dashboard\n",
            "2. Chat\n",
            "3. Quick Fetch (Debug)\n",
            "4. Settings\n",
            "5. Exit\n",
            "1\n",
            "\n",
            "============================================================\n",
            "Weather Dashboard\n",
            "============================================================\n",
            "\n",
            "🌍 You can type just the city name (e.g., 'Perth') or include a country code (e.g., 'Sydney,AU').\n",
            "If you just press Enter, the default location will be used.\n",
            "Which city would you like to check the weather for? [Default: Perth,AU]: Sydney\n",
            "💡 Interpreting 'Sydney' as 'Sydney,AU'\n",
            "ℹ️  Checking if 'Sydney,AU' is a valid city...\n",
            "✅ City 'Sydney,AU' found and validated successfully!\n",
            "\n",
            "📅 Great! Now let's choose how many days of forecast you'd like to see.\n",
            "Tip: Enter 1 for today only, or up to 5 for a full 5-day forecast.\n",
            "\n",
            "How many days would you like? [Default: 5]: 5\n",
            "ℹ️  Fetching 5-day forecast for Sydney,AU ...\n",
            "✅ Data retrieved successfully.\n",
            "\n",
            "— Current in Sydney —\n",
            "24.94°C, Broken clouds (Humidity 53%, Wind 5.66 m/s)\n",
            "Timezone offset: +11h\n",
            "\n",
            "— Daily Forecast —\n",
            "2025-10-05: Scattered clouds | avg 23.88°C (min 23.16°C, max 24.6°C) | rain 0.0%\n",
            "2025-10-06: Overcast clouds | avg 22.43°C (min 16.54°C, max 29.8°C) | rain 12.2%\n",
            "2025-10-07: Overcast clouds | avg 18.85°C (min 15.65°C, max 22.65°C) | rain 48.2%\n",
            "2025-10-08: Overcast clouds | avg 23.26°C (min 18.58°C, max 26.63°C) | rain 0.0%\n",
            "2025-10-09: Overcast clouds | avg 25.31°C (min 22.17°C, max 28.25°C) | rain 0.0%\n",
            "\n",
            "What would you like to visualise?\n",
            "Please select one of the following:\n",
            "1. Temperature Trend\n",
            "2. Precipitation Probability\n",
            "3. Temperature Range (Min–Max)\n",
            "4. Wind & Humidity (Current)\n",
            "5. Back to Main Menu\n",
            "1\n",
            "ℹ️  You chose: Temperature Trend\n"
          ]
        },
        {
          "output_type": "display_data",
          "data": {
            "text/plain": [
              "<Figure size 800x450 with 1 Axes>"
            ],
            "image/png": "[encoded data removed]"
          },
          "metadata": {}
        },
        {
          "output_type": "stream",
          "name": "stdout",
          "text": [
            "\n",
            "✅ Chart displayed successfully.\n",
            "You can view another chart or go back to the main menu.\n",
            "\n",
            "------------------------------------------------------------\n",
            "\n",
            "\n",
            "What would you like to visualise?\n",
            "Please select one of the following:\n",
            "1. Temperature Trend\n",
            "2. Precipitation Probability\n",
            "3. Temperature Range (Min–Max)\n",
            "4. Wind & Humidity (Current)\n",
            "5. Back to Main Menu\n",
            "2\n",
            "ℹ️  You chose: Precipitation Probability\n"
          ]
        },
        {
          "output_type": "display_data",
          "data": {
            "text/plain": [
              "<Figure size 800x450 with 1 Axes>"
            ],
            "image/png": "[encoded data removed]"
          },
          "metadata": {}
        },
        {
          "output_type": "stream",
          "name": "stdout",
          "text": [
            "\n",
            "✅ Chart displayed successfully.\n",
            "You can view another chart or go back to the main menu.\n",
            "\n",
            "------------------------------------------------------------\n",
            "\n",
            "\n",
            "What would you like to visualise?\n",
            "Please select one of the following:\n",
            "1. Temperature Trend\n",
            "2. Precipitation Probability\n",
            "3. Temperature Range (Min–Max)\n",
            "4. Wind & Humidity (Current)\n",
            "5. Back to Main Menu\n",
            "3\n",
            "ℹ️  You chose: Temperature Range (Min–Max)\n"
          ]
        },
        {
          "output_type": "display_data",
          "data": {
            "text/plain": [
              "<Figure size 800x450 with 1 Axes>"
            ],
            "image/png": "[encoded data removed]"
          },
          "metadata": {}
        },
        {
          "output_type": "stream",
          "name": "stdout",
          "text": [
            "\n",
            "✅ Chart displayed successfully.\n",
            "You can view another chart or go back to the main menu.\n",
            "\n",
            "------------------------------------------------------------\n",
            "\n",
            "\n",
            "What would you like to visualise?\n",
            "Please select one of the following:\n",
            "1. Temperature Trend\n",
            "2. Precipitation Probability\n",
            "3. Temperature Range (Min–Max)\n",
            "4. Wind & Humidity (Current)\n",
            "5. Back to Main Menu\n",
            "4\n",
            "ℹ️  You chose: Wind & Humidity (Current)\n"
          ]
        },
        {
          "output_type": "display_data",
          "data": {
            "text/plain": [
              "<Figure size 800x400 with 2 Axes>"
            ],
            "image/png": "[encoded data removed]"
          },
          "metadata": {}
        },
        {
          "output_type": "stream",
          "name": "stdout",
          "text": [
            "\n",
            "✅ Chart displayed successfully.\n",
            "You can view another chart or go back to the main menu.\n",
            "\n",
            "------------------------------------------------------------\n",
            "\n",
            "\n",
            "What would you like to visualise?\n",
            "Please select one of the following:\n",
            "1. Temperature Trend\n",
            "2. Precipitation Probability\n",
            "3. Temperature Range (Min–Max)\n",
            "4. Wind & Humidity (Current)\n",
            "5. Back to Main Menu\n",
            "5\n",
            "ℹ️  You chose: Back to Main Menu\n",
            "ℹ️  Returning to Main Menu...\n",
            "\n",
            "============================================================\n",
            "Weather Wise — Main Menu\n",
            "============================================================\n",
            "Please select one of the following:\n",
            "1. Dashboard\n",
            "2. Chat\n",
            "3. Quick Fetch (Debug)\n",
            "4. Settings\n",
            "5. Exit\n",
            "2\n",
            "\n",
            "============================================================\n",
            "Chat Mode\n",
            "============================================================\n",
            "🌸 Hi there! I’m Aurora — your Weather Wise chatbot assistant ☁️\n",
            "You can ask me about:\n",
            "• 🌤  Weather forecasts (temperature, rain, wind, humidity)\n",
            "• 🥾 Activity recommendations (currently available for hiking only)\n",
            "💡 Tip: Please include a city or location in your question so I can fetch accurate results.\n",
            "Examples:\n",
            "• Will it rain tomorrow in Sydney?\n",
            "• Is tomorrow good for hiking in Perth?\n",
            "• Show temperature for the next 3 days in Melbourne\n",
            "If you forget, I'll use your default location (Perth,AU).\n",
            "Type 'back' anytime to return to the main menu.\n",
            "\n",
            "🧑 You: Will it rain tomorrow in Perth?\n",
            "💡 Interpreting 'Perth' as 'Perth,AU'\n",
            "💬 Aurora: Probably not. Chance of rain tomorrow (2025-10-06) in Perth is 0%.\n",
            "\n"
          ]
        },
        {
          "output_type": "display_data",
          "data": {
            "text/plain": [
              "<Figure size 800x450 with 1 Axes>"
            ],
            "image/png": "[encoded data removed]"
          },
          "metadata": {}
        },
        {
          "output_type": "stream",
          "name": "stdout",
          "text": [
            "\n",
            "✅ Chart (if any) displayed. Ask another question, or type 'back' to return.\n",
            "------------------------------------------------------------\n",
            "🧑 You: Will it rain tomorrow in P?\n",
            "ℹ️  No city detected. Using default: Perth,AU\n",
            "💬 Aurora: Probably not. Chance of rain tomorrow (2025-10-06) in Perth is 0%.\n",
            "\n"
          ]
        },
        {
          "output_type": "display_data",
          "data": {
            "text/plain": [
              "<Figure size 800x450 with 1 Axes>"
            ],
            "image/png": "[encoded data removed]"
          },
          "metadata": {}
        },
        {
          "output_type": "stream",
          "name": "stdout",
          "text": [
            "\n",
            "✅ Chart (if any) displayed. Ask another question, or type 'back' to return.\n",
            "------------------------------------------------------------\n",
            "🧑 You: Weather in RandomCityZZ?\n",
            "🙁 Aurora: City not found: 'RandomCityZZ'.\n",
            "Try another city? (yes/no): yes\n",
            "Enter a city (e.g., 'Melbourne,AU'): Bali\n",
            "💬 Aurora: Currently in Bali: Overcast clouds, 28.6°C.\n",
            "\n",
            "\n",
            "✅ Chart (if any) displayed. Ask another question, or type 'back' to return.\n",
            "------------------------------------------------------------\n",
            "🧑 You: Is this week good for hiking in Bali?\n",
            "💬 Aurora: Recommendation for hiking in Bali (next 3 days):\n",
            "- 2025-10-05: ⚠️ Fair (60/100) — high rain chance\n",
            "- 2025-10-06: ✅ Good (80/100) — possible showers\n",
            "- 2025-10-07: ✅ Good (100/100) — conditions look fine\n",
            "\n",
            "Best day: 2025-10-07 (score 100/100).\n",
            "\n",
            "\n",
            "✅ Chart (if any) displayed. Ask another question, or type 'back' to return.\n",
            "------------------------------------------------------------\n",
            "🧑 You: back\n",
            "👋 Aurora: Goodbye! Stay safe and enjoy your day ☀️\n",
            "\n",
            "============================================================\n",
            "Weather Wise — Main Menu\n",
            "============================================================\n",
            "Please select one of the following:\n",
            "1. Dashboard\n",
            "2. Chat\n",
            "3. Quick Fetch (Debug)\n",
            "4. Settings\n",
            "5. Exit\n",
            "4\n",
            "\n",
            "============================================================\n",
            "Settings\n",
            "============================================================\n",
            "Current default location: Perth,AU\n",
            "Set new default location (blank to keep current): \n",
            "ℹ️  Default location unchanged.\n",
            "\n",
            "Press Enter to continue...\n",
            "\n",
            "============================================================\n",
            "Weather Wise — Main Menu\n",
            "============================================================\n",
            "Please select one of the following:\n",
            "1. Dashboard\n",
            "2. Chat\n",
            "3. Quick Fetch (Debug)\n",
            "4. Settings\n",
            "5. Exit\n",
            "5\n",
            "ℹ️  Goodbye!\n"
          ]
        }
      ]
    },
    {
      "cell_type": "markdown",
      "id": "fde44479",
      "metadata": {
        "id": "fde44479"
      },
      "source": [
        "## 🧪 Testing and Examples\n",
        "\n",
        "This section validates that the Weather Wise application meets all testing requirements in the assignment rubric.\n",
        "It checks:\n",
        "- Function signature conformance (get_weather_data(location, forecast_days=5)),\n",
        "- Proper use of environment variables (OPENWEATHER_API_KEY or OWM_API_KEY),\n",
        "- Graceful handling of API failures, timeouts, and incomplete data,\n",
        "- Use of the requests library with safe exception handling, and\n",
        "- Example calls for key helper functions to illustrate expected behaviour."
      ]
    },
    {
      "cell_type": "markdown",
      "source": [
        "### API Compatibility and Network Error Tests"
      ],
      "metadata": {
        "id": "ViNCBzsCJr_W"
      },
      "id": "ViNCBzsCJr_W"
    },
    {
      "cell_type": "code",
      "execution_count": null,
      "id": "4e573901",
      "metadata": {
        "id": "4e573901"
      },
      "outputs": [],
      "source": [
        "# This cell tests the robustness and marking rubric compliance of get_weather_data().\n",
        "# It verifies that the function handles:\n",
        "#   • Missing or invalid API key\n",
        "#   • Invalid city (404)\n",
        "#   • Rate limiting (429)\n",
        "#   • Gateway/server errors (502)\n",
        "#   • Timeout exceptions\n",
        "#   • Incomplete data (missing fields)\n",
        "# And confirms: proper signature, safe error handling, and use of requests.get.\n",
        "\n",
        "import os, inspect, requests, json as _json\n",
        "from contextlib import contextmanager\n",
        "\n",
        "# --- 1️⃣ Ensure environment key compatibility -----------------\n",
        "if os.environ.get(\"OPENWEATHER_API_KEY\") and not os.environ.get(\"OWM_API_KEY\"):\n",
        "    os.environ[\"OWM_API_KEY\"] = os.environ[\"OPENWEATHER_API_KEY\"]\n",
        "\n",
        "print(\"API key sources ->\",\n",
        "      \"OPENWEATHER_API_KEY:\", bool(os.environ.get(\"OPENWEATHER_API_KEY\")),\n",
        "      \"| OWM_API_KEY:\", bool(os.environ.get(\"OWM_API_KEY\")))\n",
        "\n",
        "# --- 2️⃣ Verify function signature -----------------------------\n",
        "sig = inspect.signature(get_weather_data)\n",
        "print(\"\\nFunction signature:\", sig)\n",
        "if \"location\" in sig.parameters and \"forecast_days\" in sig.parameters:\n",
        "    print(\"✅ Signature conforms to required format.\")\n",
        "else:\n",
        "    print(\"❌ Signature mismatch — must accept (location, forecast_days=5).\")\n",
        "\n",
        "# --- 3️⃣ Mock network responses --------------------------------\n",
        "class _FakeResponse:\n",
        "    def __init__(self, status_code=200, json_body=None, raise_timeout=False):\n",
        "        self.status_code = status_code\n",
        "        self._json = json_body or {}\n",
        "        self._raise_timeout = raise_timeout\n",
        "        self.text = _json.dumps(self._json)\n",
        "    def json(self):\n",
        "        if self._raise_timeout:\n",
        "            raise requests.exceptions.Timeout(\"Simulated timeout in json()\")\n",
        "        return self._json\n",
        "    def raise_for_status(self):\n",
        "        if 400 <= self.status_code:\n",
        "            raise requests.exceptions.HTTPError(f\"HTTP {self.status_code}\")\n",
        "\n",
        "@contextmanager\n",
        "def mock_requests_get(responder):\n",
        "    \"\"\"Temporarily patch requests.get with a mock responder.\"\"\"\n",
        "    original = requests.get\n",
        "    def _wrapper(url, params=None, **kwargs):\n",
        "        return responder(url, params or {})\n",
        "    requests.get = _wrapper\n",
        "    try:\n",
        "        yield\n",
        "    finally:\n",
        "        requests.get = original\n",
        "\n",
        "# --- 4️⃣ Prepare sample JSON payloads ---------------------------\n",
        "CURRENT_OK = {\n",
        "    \"cod\": 200, \"name\": \"Perth\", \"sys\": {\"country\": \"AU\"},\n",
        "    \"coord\": {\"lat\": -31.95, \"lon\": 115.86}, \"timezone\": 28800,\n",
        "    \"weather\": [{\"description\": \"clear sky\", \"icon\": \"01d\"}],\n",
        "    \"main\": {\"temp\": 24.3, \"humidity\": 44}, \"wind\": {\"speed\": 3.1}\n",
        "}\n",
        "FCST_OK = {\n",
        "    \"list\": [\n",
        "        {\"dt_txt\": \"2025-10-05 00:00:00\", \"main\": {\"temp\": 22.0},\n",
        "         \"weather\": [{\"description\": \"clear sky\"}], \"pop\": 0.1},\n",
        "        {\"dt_txt\": \"2025-10-06 00:00:00\", \"main\": {\"temp\": 25.0},\n",
        "         \"weather\": [{\"description\": \"few clouds\"}], \"pop\": 0.3}\n",
        "    ]\n",
        "}\n",
        "\n",
        "# --- 5️⃣ Define responders for different scenarios --------------\n",
        "def ok(url, p): return _FakeResponse(200, CURRENT_OK if \"weather\" in url else FCST_OK)\n",
        "def not_found(url, p): return _FakeResponse(404, {\"cod\": 404, \"message\": \"city not found\"})\n",
        "def bad_key(url, p): return _FakeResponse(401, {\"cod\": 401, \"message\": \"invalid api key\"})\n",
        "def rate_limit(url, p): return _FakeResponse(429, {\"cod\": 429, \"message\": \"too many requests\"})\n",
        "def gateway_err(url, p): return _FakeResponse(502, {\"cod\": 502, \"message\": \"bad gateway\"})\n",
        "def timeout_err(url, p): raise requests.exceptions.Timeout(\"Simulated timeout\")\n",
        "def incomplete(url, p):\n",
        "    if \"weather\" in url:\n",
        "        return _FakeResponse(200, {\"cod\": 200, \"name\": \"Perth\", \"main\": {\"temp\": 22.5}})\n",
        "    else:\n",
        "        return _FakeResponse(200, FCST_OK)\n",
        "\n",
        "scenarios = [\n",
        "    (\"✅ Success (200/200)\", ok),\n",
        "    (\"❌ City not found (404)\", not_found),\n",
        "    (\"❌ Invalid API key (401)\", bad_key),\n",
        "    (\"⚠️  Rate limited (429)\", rate_limit),\n",
        "    (\"⚙️  Gateway/server error (502)\", gateway_err),\n",
        "    (\"⏱️  Timeout exception\", timeout_err),\n",
        "    (\"⚠️  Incomplete data\", incomplete),\n",
        "]\n",
        "\n",
        "# --- 6️⃣ Run all scenarios --------------------------------------\n",
        "for label, responder in scenarios:\n",
        "    print(f\"\\n—— {label} ——\")\n",
        "    try:\n",
        "        with mock_requests_get(responder):\n",
        "            result = get_weather_data(\"Perth,AU\", forecast_days=2, include_hourly_24h=True, use_cache=False)\n",
        "        if isinstance(result, dict) and \"error\" in result:\n",
        "            print(\"Returned error dict:\", result[\"error\"])\n",
        "        else:\n",
        "            loc = result.get(\"location\", {}).get(\"name\")\n",
        "            print(f\"Returned OK, location={loc}, daily={len(result.get('daily', []))}\")\n",
        "    except Exception as e:\n",
        "        print(\"❌ Exception not caught:\", repr(e))"
      ]
    },
    {
      "cell_type": "markdown",
      "source": [
        "### Sample Inputs and Outputs for Core Functions"
      ],
      "metadata": {
        "id": "N69kfu67KgWQ"
      },
      "id": "N69kfu67KgWQ"
    },
    {
      "cell_type": "code",
      "source": [
        "# 🧭 Functionality Examples — Demonstrating Key Components\n",
        "\n",
        "# --- 1️⃣ Location validation & normalisation -------------------\n",
        "print(\"validate_location_format('Perth,AU') →\", validate_location_format(\"Perth,AU\"))\n",
        "print(\"validate_location_format('123') →\", validate_location_format(\"123\"))\n",
        "print(\"normalize_city_input('melb') →\", normalize_city_input(\"melb\"))\n",
        "\n",
        "# --- 2️⃣ Date parsing (NLP helper) -----------------------------\n",
        "print(\"_try_parse_date_to_iso('2025-10-08') →\", _try_parse_date_to_iso(\"2025-10-08\"))\n",
        "print(\"_try_parse_date_to_iso('8 October 2025') →\", _try_parse_date_to_iso(\"8 October 2025\"))\n",
        "\n",
        "# --- 3️⃣ NLP question parsing ----------------------------------\n",
        "q1 = \"Will it rain tomorrow in Perth?\"\n",
        "q2 = \"Show temperature for the next 3 days in Sydney\"\n",
        "q3 = \"Is it good for hiking this weekend in Melbourne?\"\n",
        "\n",
        "print(\"\\nparse_weather_question(q1) →\", parse_weather_question(q1))\n",
        "print(\"parse_weather_question(q2) →\", parse_weather_question(q2))\n",
        "print(\"parse_weather_question_with_activities(q3) →\", parse_weather_question_with_activities(q3))\n",
        "\n",
        "# --- 4️⃣ Activity recommendation demo ---------------------------\n",
        "sample_weather = {\n",
        "    \"location\": {\"name\": \"Perth\"},\n",
        "    \"daily\": [\n",
        "        {\"date\": \"2025-10-05\", \"temp_avg\": 23, \"temp_min\": 17, \"temp_max\": 26, \"pop\": 10},\n",
        "        {\"date\": \"2025-10-06\", \"temp_avg\": 32, \"temp_min\": 24, \"temp_max\": 36, \"pop\": 40},\n",
        "        {\"date\": \"2025-10-07\", \"temp_avg\": 18, \"temp_min\": 12, \"temp_max\": 20, \"pop\": 80},\n",
        "    ]\n",
        "}\n",
        "print(\"\\nrecommend_activity(sample_weather, 'hiking') →\\n\", recommend_activity(sample_weather, 'hiking'))\n",
        "\n",
        "# --- 5️⃣ Natural language generation ----------------------------\n",
        "pq = parse_weather_question(\"Will it rain today in Perth?\")\n",
        "wd = {\n",
        "    \"location\": {\"name\": \"Perth\", \"timezone_offset_seconds\": 28800},\n",
        "    \"current\": {\"temp\": 22.5, \"description\": \"clear sky\", \"wind_speed\": 3.4, \"humidity\": 50},\n",
        "    \"daily\": [{\"date\": \"2025-10-05\", \"temp_avg\": 23, \"temp_min\": 17, \"temp_max\": 27, \"pop\": 15, \"description\": \"clear\"}]\n",
        "}\n",
        "print(\"\\ngenerate_weather_response(pq, wd) →\", generate_weather_response(pq, wd))"
      ],
      "metadata": {
        "id": "QHAV3IzAKkNV"
      },
      "id": "QHAV3IzAKkNV",
      "execution_count": null,
      "outputs": []
    },
    {
      "cell_type": "markdown",
      "id": "d2885880",
      "metadata": {
        "id": "d2885880"
      },
      "source": [
        "## 🗂️ AI Prompting Log (Optional)\n",
        "Add markdown cells here summarising prompts used or link to AI conversations in the `ai-conversations/` folder."
      ]
    }
  ],
  "metadata": {
    "language_info": {
      "name": "python"
    },
    "colab": {
      "provenance": [],
      "toc_visible": true,
      "include_colab_link": true
    },
    "kernelspec": {
      "name": "python3",
      "display_name": "Python 3"
    }
  },
  "nbformat": 4,
  "nbformat_minor": 5
}